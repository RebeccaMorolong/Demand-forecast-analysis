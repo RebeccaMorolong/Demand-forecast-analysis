{
 "cells": [
  {
   "cell_type": "markdown",
   "id": "efbd9a00",
   "metadata": {},
   "source": [
    "# Demand Forecast Analysis"
   ]
  },
  {
   "cell_type": "markdown",
   "id": "f490e55c",
   "metadata": {},
   "source": [
    "# Business Overview"
   ]
  },
  {
   "cell_type": "markdown",
   "id": "51686297",
   "metadata": {},
   "source": [
    "\n",
    "*  This project aims to enhance demand forecasting accuracy for a retail business by leveraging historical sales data across multiple product categories. Accurate demand forecasting is critical for optimizing inventory management, reducing stockouts and overstock situations, and improving overall supply chain efficiency. By analyzing monthly demand patterns for categories such as Grocery, Apparel, Toys, Electronics, and Home & Kitchen, the project utilizes data cleaning, transformation, and machine learning techniques to predict future demand. The resulting forecasts support data-driven decision-making, enabling the business to better align procurement, production, and sales strategies with anticipated market needs."
   ]
  },
  {
   "cell_type": "code",
   "execution_count": 1,
   "id": "2df66b28",
   "metadata": {},
   "outputs": [],
   "source": [
    "#import necessary libraries\n",
    "import os\n",
    "import pandas as pd\n",
    "import numpy as np\n",
    "import matplotlib.pyplot as plt\n",
    "import plotly.express as px"
   ]
  },
  {
   "cell_type": "markdown",
   "id": "cf400d37",
   "metadata": {},
   "source": [
    "# Data Cleaning"
   ]
  },
  {
   "cell_type": "code",
   "execution_count": 121,
   "id": "ec4d2de5",
   "metadata": {},
   "outputs": [
    {
     "data": {
      "text/html": [
       "<div>\n",
       "<style scoped>\n",
       "    .dataframe tbody tr th:only-of-type {\n",
       "        vertical-align: middle;\n",
       "    }\n",
       "\n",
       "    .dataframe tbody tr th {\n",
       "        vertical-align: top;\n",
       "    }\n",
       "\n",
       "    .dataframe thead th {\n",
       "        text-align: right;\n",
       "    }\n",
       "</style>\n",
       "<table border=\"1\" class=\"dataframe\">\n",
       "  <thead>\n",
       "    <tr style=\"text-align: right;\">\n",
       "      <th></th>\n",
       "      <th>Item_ID</th>\n",
       "      <th>Item_Name</th>\n",
       "      <th>Category</th>\n",
       "      <th>Jan_Demand</th>\n",
       "      <th>Feb_Demand</th>\n",
       "      <th>Mar_Demand</th>\n",
       "      <th>Apr_Demand</th>\n",
       "      <th>May_Demand</th>\n",
       "      <th>Jun_Demand</th>\n",
       "      <th>Jul_Demand</th>\n",
       "      <th>Aug_Demand</th>\n",
       "      <th>Sep_Demand</th>\n",
       "      <th>Oct_Demand</th>\n",
       "      <th>Nov_Demand</th>\n",
       "      <th>Dec_Demand</th>\n",
       "      <th>Total_Annual_Units</th>\n",
       "      <th>Price_Per_Unit</th>\n",
       "      <th>Total_Sales_Value</th>\n",
       "    </tr>\n",
       "  </thead>\n",
       "  <tbody>\n",
       "    <tr>\n",
       "      <th>0</th>\n",
       "      <td>ITM_001</td>\n",
       "      <td>Surface Near</td>\n",
       "      <td>Grocery</td>\n",
       "      <td>4516</td>\n",
       "      <td>4069</td>\n",
       "      <td>4664</td>\n",
       "      <td>4653</td>\n",
       "      <td>4508</td>\n",
       "      <td>4125</td>\n",
       "      <td>4669</td>\n",
       "      <td>4210</td>\n",
       "      <td>4824</td>\n",
       "      <td>4497</td>\n",
       "      <td>4259</td>\n",
       "      <td>4782</td>\n",
       "      <td>53776</td>\n",
       "      <td>10</td>\n",
       "      <td>537760</td>\n",
       "    </tr>\n",
       "    <tr>\n",
       "      <th>1</th>\n",
       "      <td>ITM_002</td>\n",
       "      <td>Central Him</td>\n",
       "      <td>Grocery</td>\n",
       "      <td>4792</td>\n",
       "      <td>4964</td>\n",
       "      <td>4628</td>\n",
       "      <td>4660</td>\n",
       "      <td>4897</td>\n",
       "      <td>5015</td>\n",
       "      <td>4805</td>\n",
       "      <td>4686</td>\n",
       "      <td>4896</td>\n",
       "      <td>4536</td>\n",
       "      <td>4520</td>\n",
       "      <td>5054</td>\n",
       "      <td>57453</td>\n",
       "      <td>100</td>\n",
       "      <td>5745300</td>\n",
       "    </tr>\n",
       "    <tr>\n",
       "      <th>2</th>\n",
       "      <td>ITM_003</td>\n",
       "      <td>Win Everyone</td>\n",
       "      <td>Apparel</td>\n",
       "      <td>61</td>\n",
       "      <td>175</td>\n",
       "      <td>38</td>\n",
       "      <td>43</td>\n",
       "      <td>15</td>\n",
       "      <td>161</td>\n",
       "      <td>224</td>\n",
       "      <td>41</td>\n",
       "      <td>387</td>\n",
       "      <td>340</td>\n",
       "      <td>70</td>\n",
       "      <td>21</td>\n",
       "      <td>1576</td>\n",
       "      <td>2</td>\n",
       "      <td>3152</td>\n",
       "    </tr>\n",
       "    <tr>\n",
       "      <th>3</th>\n",
       "      <td>ITM_004</td>\n",
       "      <td>Task Save</td>\n",
       "      <td>Apparel</td>\n",
       "      <td>1145</td>\n",
       "      <td>1113</td>\n",
       "      <td>717</td>\n",
       "      <td>832</td>\n",
       "      <td>783</td>\n",
       "      <td>954</td>\n",
       "      <td>1047</td>\n",
       "      <td>894</td>\n",
       "      <td>994</td>\n",
       "      <td>978</td>\n",
       "      <td>1136</td>\n",
       "      <td>712</td>\n",
       "      <td>11305</td>\n",
       "      <td>2</td>\n",
       "      <td>22610</td>\n",
       "    </tr>\n",
       "    <tr>\n",
       "      <th>4</th>\n",
       "      <td>ITM_005</td>\n",
       "      <td>Hotel Teacher</td>\n",
       "      <td>Grocery</td>\n",
       "      <td>1494</td>\n",
       "      <td>2051</td>\n",
       "      <td>1400</td>\n",
       "      <td>1918</td>\n",
       "      <td>1669</td>\n",
       "      <td>1733</td>\n",
       "      <td>1695</td>\n",
       "      <td>1560</td>\n",
       "      <td>1679</td>\n",
       "      <td>1381</td>\n",
       "      <td>1591</td>\n",
       "      <td>1662</td>\n",
       "      <td>19833</td>\n",
       "      <td>10</td>\n",
       "      <td>198330</td>\n",
       "    </tr>\n",
       "  </tbody>\n",
       "</table>\n",
       "</div>"
      ],
      "text/plain": [
       "   Item_ID      Item_Name Category  Jan_Demand  Feb_Demand  Mar_Demand  \\\n",
       "0  ITM_001   Surface Near  Grocery        4516        4069        4664   \n",
       "1  ITM_002    Central Him  Grocery        4792        4964        4628   \n",
       "2  ITM_003   Win Everyone  Apparel          61         175          38   \n",
       "3  ITM_004      Task Save  Apparel        1145        1113         717   \n",
       "4  ITM_005  Hotel Teacher  Grocery        1494        2051        1400   \n",
       "\n",
       "   Apr_Demand  May_Demand  Jun_Demand  Jul_Demand  Aug_Demand  Sep_Demand  \\\n",
       "0        4653        4508        4125        4669        4210        4824   \n",
       "1        4660        4897        5015        4805        4686        4896   \n",
       "2          43          15         161         224          41         387   \n",
       "3         832         783         954        1047         894         994   \n",
       "4        1918        1669        1733        1695        1560        1679   \n",
       "\n",
       "   Oct_Demand  Nov_Demand  Dec_Demand  Total_Annual_Units  Price_Per_Unit  \\\n",
       "0        4497        4259        4782               53776              10   \n",
       "1        4536        4520        5054               57453             100   \n",
       "2         340          70          21                1576               2   \n",
       "3         978        1136         712               11305               2   \n",
       "4        1381        1591        1662               19833              10   \n",
       "\n",
       "   Total_Sales_Value  \n",
       "0             537760  \n",
       "1            5745300  \n",
       "2               3152  \n",
       "3              22610  \n",
       "4             198330  "
      ]
     },
     "execution_count": 121,
     "metadata": {},
     "output_type": "execute_result"
    }
   ],
   "source": [
    "#load the dataset\n",
    "data = pd.read_csv(r'C:\\Users\\Rebecca\\Desktop\\Demand forecast analysis\\Data\\abc_xyz_dataset.csv')\n",
    "data.head()"
   ]
  },
  {
   "cell_type": "code",
   "execution_count": 122,
   "id": "b89f0166",
   "metadata": {},
   "outputs": [
    {
     "data": {
      "text/plain": [
       "['Grocery', 'Apparel', 'Toys', 'Electronics', 'Home & Kitchen']"
      ]
     },
     "execution_count": 122,
     "metadata": {},
     "output_type": "execute_result"
    }
   ],
   "source": [
    "#check unique values in category column\n",
    "unique_products = data['Category'].unique()\n",
    "unique_products.tolist()"
   ]
  },
  {
   "cell_type": "code",
   "execution_count": 8,
   "id": "b08159b1",
   "metadata": {},
   "outputs": [
    {
     "name": "stdout",
     "output_type": "stream",
     "text": [
      "<class 'pandas.core.frame.DataFrame'>\n",
      "RangeIndex: 1000 entries, 0 to 999\n",
      "Data columns (total 18 columns):\n",
      " #   Column              Non-Null Count  Dtype \n",
      "---  ------              --------------  ----- \n",
      " 0   Item_ID             1000 non-null   object\n",
      " 1   Item_Name           1000 non-null   object\n",
      " 2   Category            1000 non-null   object\n",
      " 3   Jan_Demand          1000 non-null   int64 \n",
      " 4   Feb_Demand          1000 non-null   int64 \n",
      " 5   Mar_Demand          1000 non-null   int64 \n",
      " 6   Apr_Demand          1000 non-null   int64 \n",
      " 7   May_Demand          1000 non-null   int64 \n",
      " 8   Jun_Demand          1000 non-null   int64 \n",
      " 9   Jul_Demand          1000 non-null   int64 \n",
      " 10  Aug_Demand          1000 non-null   int64 \n",
      " 11  Sep_Demand          1000 non-null   int64 \n",
      " 12  Oct_Demand          1000 non-null   int64 \n",
      " 13  Nov_Demand          1000 non-null   int64 \n",
      " 14  Dec_Demand          1000 non-null   int64 \n",
      " 15  Total_Annual_Units  1000 non-null   int64 \n",
      " 16  Price_Per_Unit      1000 non-null   int64 \n",
      " 17  Total_Sales_Value   1000 non-null   int64 \n",
      "dtypes: int64(15), object(3)\n",
      "memory usage: 140.8+ KB\n"
     ]
    }
   ],
   "source": [
    "#info about the dataset\n",
    "data.info()"
   ]
  },
  {
   "cell_type": "code",
   "execution_count": 9,
   "id": "8042fa19",
   "metadata": {},
   "outputs": [
    {
     "data": {
      "text/html": [
       "<div>\n",
       "<style scoped>\n",
       "    .dataframe tbody tr th:only-of-type {\n",
       "        vertical-align: middle;\n",
       "    }\n",
       "\n",
       "    .dataframe tbody tr th {\n",
       "        vertical-align: top;\n",
       "    }\n",
       "\n",
       "    .dataframe thead th {\n",
       "        text-align: right;\n",
       "    }\n",
       "</style>\n",
       "<table border=\"1\" class=\"dataframe\">\n",
       "  <thead>\n",
       "    <tr style=\"text-align: right;\">\n",
       "      <th></th>\n",
       "      <th>Jan_Demand</th>\n",
       "      <th>Feb_Demand</th>\n",
       "      <th>Mar_Demand</th>\n",
       "      <th>Apr_Demand</th>\n",
       "      <th>May_Demand</th>\n",
       "      <th>Jun_Demand</th>\n",
       "      <th>Jul_Demand</th>\n",
       "      <th>Aug_Demand</th>\n",
       "      <th>Sep_Demand</th>\n",
       "      <th>Oct_Demand</th>\n",
       "      <th>Nov_Demand</th>\n",
       "      <th>Dec_Demand</th>\n",
       "      <th>Total_Annual_Units</th>\n",
       "      <th>Price_Per_Unit</th>\n",
       "      <th>Total_Sales_Value</th>\n",
       "    </tr>\n",
       "  </thead>\n",
       "  <tbody>\n",
       "    <tr>\n",
       "      <th>count</th>\n",
       "      <td>1000.000000</td>\n",
       "      <td>1000.000000</td>\n",
       "      <td>1000.00000</td>\n",
       "      <td>1000.000000</td>\n",
       "      <td>1000.000000</td>\n",
       "      <td>1000.000000</td>\n",
       "      <td>1000.000000</td>\n",
       "      <td>1000.000000</td>\n",
       "      <td>1000.000</td>\n",
       "      <td>1000.000000</td>\n",
       "      <td>1000.000000</td>\n",
       "      <td>1000.00000</td>\n",
       "      <td>1000.000000</td>\n",
       "      <td>1000.000000</td>\n",
       "      <td>1.000000e+03</td>\n",
       "    </tr>\n",
       "    <tr>\n",
       "      <th>mean</th>\n",
       "      <td>1418.515000</td>\n",
       "      <td>1418.394000</td>\n",
       "      <td>1421.23900</td>\n",
       "      <td>1409.242000</td>\n",
       "      <td>1411.762000</td>\n",
       "      <td>1412.853000</td>\n",
       "      <td>1410.558000</td>\n",
       "      <td>1403.721000</td>\n",
       "      <td>1411.109</td>\n",
       "      <td>1411.700000</td>\n",
       "      <td>1413.422000</td>\n",
       "      <td>1419.38100</td>\n",
       "      <td>16961.896000</td>\n",
       "      <td>57.358000</td>\n",
       "      <td>1.072288e+06</td>\n",
       "    </tr>\n",
       "    <tr>\n",
       "      <th>std</th>\n",
       "      <td>1489.352997</td>\n",
       "      <td>1488.076126</td>\n",
       "      <td>1496.49987</td>\n",
       "      <td>1489.280958</td>\n",
       "      <td>1488.620593</td>\n",
       "      <td>1490.568779</td>\n",
       "      <td>1497.772702</td>\n",
       "      <td>1484.283184</td>\n",
       "      <td>1482.689</td>\n",
       "      <td>1484.762652</td>\n",
       "      <td>1482.821287</td>\n",
       "      <td>1496.14098</td>\n",
       "      <td>17788.477345</td>\n",
       "      <td>155.110913</td>\n",
       "      <td>4.087477e+06</td>\n",
       "    </tr>\n",
       "    <tr>\n",
       "      <th>min</th>\n",
       "      <td>24.000000</td>\n",
       "      <td>7.000000</td>\n",
       "      <td>2.00000</td>\n",
       "      <td>8.000000</td>\n",
       "      <td>9.000000</td>\n",
       "      <td>15.000000</td>\n",
       "      <td>6.000000</td>\n",
       "      <td>2.000000</td>\n",
       "      <td>2.000</td>\n",
       "      <td>11.000000</td>\n",
       "      <td>9.000000</td>\n",
       "      <td>4.00000</td>\n",
       "      <td>581.000000</td>\n",
       "      <td>2.000000</td>\n",
       "      <td>1.228000e+03</td>\n",
       "    </tr>\n",
       "    <tr>\n",
       "      <th>25%</th>\n",
       "      <td>282.750000</td>\n",
       "      <td>279.000000</td>\n",
       "      <td>278.00000</td>\n",
       "      <td>278.000000</td>\n",
       "      <td>280.000000</td>\n",
       "      <td>277.750000</td>\n",
       "      <td>267.000000</td>\n",
       "      <td>283.000000</td>\n",
       "      <td>282.000</td>\n",
       "      <td>277.000000</td>\n",
       "      <td>275.750000</td>\n",
       "      <td>283.00000</td>\n",
       "      <td>3369.500000</td>\n",
       "      <td>2.000000</td>\n",
       "      <td>1.661900e+04</td>\n",
       "    </tr>\n",
       "    <tr>\n",
       "      <th>50%</th>\n",
       "      <td>539.500000</td>\n",
       "      <td>558.000000</td>\n",
       "      <td>591.50000</td>\n",
       "      <td>558.000000</td>\n",
       "      <td>541.500000</td>\n",
       "      <td>598.000000</td>\n",
       "      <td>555.000000</td>\n",
       "      <td>550.500000</td>\n",
       "      <td>547.000</td>\n",
       "      <td>591.000000</td>\n",
       "      <td>608.000000</td>\n",
       "      <td>562.00000</td>\n",
       "      <td>6737.500000</td>\n",
       "      <td>10.000000</td>\n",
       "      <td>7.283600e+04</td>\n",
       "    </tr>\n",
       "    <tr>\n",
       "      <th>75%</th>\n",
       "      <td>2478.500000</td>\n",
       "      <td>2529.250000</td>\n",
       "      <td>2515.75000</td>\n",
       "      <td>2427.000000</td>\n",
       "      <td>2461.250000</td>\n",
       "      <td>2451.500000</td>\n",
       "      <td>2547.500000</td>\n",
       "      <td>2407.750000</td>\n",
       "      <td>2472.750</td>\n",
       "      <td>2492.500000</td>\n",
       "      <td>2406.250000</td>\n",
       "      <td>2422.00000</td>\n",
       "      <td>29874.500000</td>\n",
       "      <td>50.000000</td>\n",
       "      <td>3.782425e+05</td>\n",
       "    </tr>\n",
       "    <tr>\n",
       "      <th>max</th>\n",
       "      <td>5276.000000</td>\n",
       "      <td>5171.000000</td>\n",
       "      <td>5271.00000</td>\n",
       "      <td>5186.000000</td>\n",
       "      <td>5384.000000</td>\n",
       "      <td>5462.000000</td>\n",
       "      <td>5504.000000</td>\n",
       "      <td>5219.000000</td>\n",
       "      <td>5240.000</td>\n",
       "      <td>5189.000000</td>\n",
       "      <td>5255.000000</td>\n",
       "      <td>5180.00000</td>\n",
       "      <td>59967.000000</td>\n",
       "      <td>1000.000000</td>\n",
       "      <td>5.946200e+07</td>\n",
       "    </tr>\n",
       "  </tbody>\n",
       "</table>\n",
       "</div>"
      ],
      "text/plain": [
       "        Jan_Demand   Feb_Demand  Mar_Demand   Apr_Demand   May_Demand  \\\n",
       "count  1000.000000  1000.000000  1000.00000  1000.000000  1000.000000   \n",
       "mean   1418.515000  1418.394000  1421.23900  1409.242000  1411.762000   \n",
       "std    1489.352997  1488.076126  1496.49987  1489.280958  1488.620593   \n",
       "min      24.000000     7.000000     2.00000     8.000000     9.000000   \n",
       "25%     282.750000   279.000000   278.00000   278.000000   280.000000   \n",
       "50%     539.500000   558.000000   591.50000   558.000000   541.500000   \n",
       "75%    2478.500000  2529.250000  2515.75000  2427.000000  2461.250000   \n",
       "max    5276.000000  5171.000000  5271.00000  5186.000000  5384.000000   \n",
       "\n",
       "        Jun_Demand   Jul_Demand   Aug_Demand  Sep_Demand   Oct_Demand  \\\n",
       "count  1000.000000  1000.000000  1000.000000    1000.000  1000.000000   \n",
       "mean   1412.853000  1410.558000  1403.721000    1411.109  1411.700000   \n",
       "std    1490.568779  1497.772702  1484.283184    1482.689  1484.762652   \n",
       "min      15.000000     6.000000     2.000000       2.000    11.000000   \n",
       "25%     277.750000   267.000000   283.000000     282.000   277.000000   \n",
       "50%     598.000000   555.000000   550.500000     547.000   591.000000   \n",
       "75%    2451.500000  2547.500000  2407.750000    2472.750  2492.500000   \n",
       "max    5462.000000  5504.000000  5219.000000    5240.000  5189.000000   \n",
       "\n",
       "        Nov_Demand  Dec_Demand  Total_Annual_Units  Price_Per_Unit  \\\n",
       "count  1000.000000  1000.00000         1000.000000     1000.000000   \n",
       "mean   1413.422000  1419.38100        16961.896000       57.358000   \n",
       "std    1482.821287  1496.14098        17788.477345      155.110913   \n",
       "min       9.000000     4.00000          581.000000        2.000000   \n",
       "25%     275.750000   283.00000         3369.500000        2.000000   \n",
       "50%     608.000000   562.00000         6737.500000       10.000000   \n",
       "75%    2406.250000  2422.00000        29874.500000       50.000000   \n",
       "max    5255.000000  5180.00000        59967.000000     1000.000000   \n",
       "\n",
       "       Total_Sales_Value  \n",
       "count       1.000000e+03  \n",
       "mean        1.072288e+06  \n",
       "std         4.087477e+06  \n",
       "min         1.228000e+03  \n",
       "25%         1.661900e+04  \n",
       "50%         7.283600e+04  \n",
       "75%         3.782425e+05  \n",
       "max         5.946200e+07  "
      ]
     },
     "execution_count": 9,
     "metadata": {},
     "output_type": "execute_result"
    }
   ],
   "source": [
    "#summary statistics of the dataset\n",
    "data.describe()"
   ]
  },
  {
   "cell_type": "code",
   "execution_count": 10,
   "id": "34d4f501",
   "metadata": {},
   "outputs": [
    {
     "name": "stdout",
     "output_type": "stream",
     "text": [
      "Item_ID               0\n",
      "Item_Name             0\n",
      "Category              0\n",
      "Jan_Demand            0\n",
      "Feb_Demand            0\n",
      "Mar_Demand            0\n",
      "Apr_Demand            0\n",
      "May_Demand            0\n",
      "Jun_Demand            0\n",
      "Jul_Demand            0\n",
      "Aug_Demand            0\n",
      "Sep_Demand            0\n",
      "Oct_Demand            0\n",
      "Nov_Demand            0\n",
      "Dec_Demand            0\n",
      "Total_Annual_Units    0\n",
      "Price_Per_Unit        0\n",
      "Total_Sales_Value     0\n",
      "dtype: int64\n"
     ]
    }
   ],
   "source": [
    "#check for missing values\n",
    "print(data.isnull().sum())"
   ]
  },
  {
   "cell_type": "code",
   "execution_count": 11,
   "id": "7b2215aa",
   "metadata": {},
   "outputs": [
    {
     "name": "stdout",
     "output_type": "stream",
     "text": [
      "0\n"
     ]
    }
   ],
   "source": [
    "#check for duplicated values\n",
    "print(data.duplicated().sum())"
   ]
  },
  {
   "cell_type": "markdown",
   "id": "b8aad31f",
   "metadata": {},
   "source": [
    "* The dataset contains 1000 entries with 18 columns. Key columns include monthly demand from January to December, total annual units, price per unit, and total sales value. The monthly demand columns are integers."
   ]
  },
  {
   "cell_type": "code",
   "execution_count": 12,
   "id": "4727b825",
   "metadata": {},
   "outputs": [],
   "source": [
    "#save the cleaned dataset\n",
    "data.to_csv(r'C:\\Users\\Rebecca\\Desktop\\Demand forecast analysis\\Data\\cleaned_abc_xyz_dataset.csv', index=False)"
   ]
  },
  {
   "cell_type": "markdown",
   "id": "6301ff27",
   "metadata": {},
   "source": [
    " * next i will reshape the data to a time series format with months and demand values, then apply the regression model."
   ]
  },
  {
   "cell_type": "code",
   "execution_count": 123,
   "id": "0a3bd459",
   "metadata": {},
   "outputs": [
    {
     "name": "stdout",
     "output_type": "stream",
     "text": [
      "  Category  Total_Annual_Units       Month  Demand\n",
      "0  Grocery               53776  Jan_Demand    4516\n",
      "1  Grocery               57453  Jan_Demand    4792\n",
      "2  Apparel                1576  Jan_Demand      61\n",
      "3  Apparel               11305  Jan_Demand    1145\n",
      "4  Grocery               19833  Jan_Demand    1494\n"
     ]
    }
   ],
   "source": [
    "# Reshape the data to have a time series format for demand forecasting\n",
    "demand_columns = [col for col in data.columns if 'Demand' in col and col != 'Total_Annual_Units']\n",
    "demand_data = data[['Category', 'Total_Annual_Units'] + demand_columns]\n",
    "demand_data = demand_data.melt(id_vars=['Category', 'Total_Annual_Units'], \n",
    "                                 var_name='Month', \n",
    "                                 value_name='Demand')\n",
    "print(demand_data.head())"
   ]
  },
  {
   "cell_type": "code",
   "execution_count": 124,
   "id": "a8cd890d",
   "metadata": {},
   "outputs": [
    {
     "name": "stdout",
     "output_type": "stream",
     "text": [
      "   Item_ID      Item_Name Category  Price_Per_Unit       Month  Demand\n",
      "0  ITM_001   Surface Near  Grocery              10  Jan_Demand    4516\n",
      "1  ITM_002    Central Him  Grocery             100  Jan_Demand    4792\n",
      "2  ITM_003   Win Everyone  Apparel               2  Jan_Demand      61\n",
      "3  ITM_004      Task Save  Apparel               2  Jan_Demand    1145\n",
      "4  ITM_005  Hotel Teacher  Grocery              10  Jan_Demand    1494\n"
     ]
    }
   ],
   "source": [
    "# Melt the dataframe to have 'Month' and 'Demand' columns\n",
    "data_melted = data.melt(id_vars=['Item_ID', 'Item_Name', 'Category', 'Price_Per_Unit'],\n",
    "                    value_vars=demand_columns,\n",
    "                    var_name='Month',\n",
    "                    value_name='Demand')\n",
    "print(data_melted.head())"
   ]
  },
  {
   "cell_type": "markdown",
   "id": "da8649a2",
   "metadata": {},
   "source": [
    "* The data has been reshaped into a time series format with columns for Item_ID, Item_Name, Category, Price_Per_Unit, Month, and Demand."
   ]
  },
  {
   "cell_type": "code",
   "execution_count": 125,
   "id": "b8907575",
   "metadata": {},
   "outputs": [],
   "source": [
    "#save the data cleaning and reshaped data\n",
    "data_melted.to_csv(r'C:\\Users\\Rebecca\\Desktop\\Demand forecast analysis\\Notebooks\\reshaped_abc_xyz_dataset.csv', index=False)"
   ]
  },
  {
   "cell_type": "code",
   "execution_count": 126,
   "id": "91dbca26",
   "metadata": {},
   "outputs": [],
   "source": [
    "#save data cleaning notebook\n",
    "notebook_path = r'C:\\Users\\Rebecca\\Desktop\\Demand forecast analysis\\Notebooks\\data_cleaning_abc_xyz.ipynb'"
   ]
  },
  {
   "cell_type": "markdown",
   "id": "785a0777",
   "metadata": {},
   "source": [
    "* Next, I will build a linear regression model to forecast the monthly demand. To keep it manageable, I will create a model for the total monthly demand across all items combined"
   ]
  },
  {
   "cell_type": "markdown",
   "id": "c44833a1",
   "metadata": {},
   "source": [
    "# Data Preprocessing"
   ]
  },
  {
   "cell_type": "code",
   "execution_count": 127,
   "id": "c3e41817",
   "metadata": {},
   "outputs": [
    {
     "name": "stdout",
     "output_type": "stream",
     "text": [
      "        Month        Category   Demand\n",
      "0  Apr_Demand         Apparel   116146\n",
      "1  Apr_Demand     Electronics    52148\n",
      "2  Apr_Demand         Grocery  1190590\n",
      "3  Apr_Demand  Home & Kitchen    24861\n",
      "4  Apr_Demand            Toys    25497\n"
     ]
    }
   ],
   "source": [
    "#aggregate total Demand by Month and Category\n",
    "demand_agg = data_melted.groupby(['Month', 'Category'])['Demand'].sum().reset_index()\n",
    " \n",
    "print(demand_agg.head())"
   ]
  },
  {
   "cell_type": "code",
   "execution_count": 128,
   "id": "f6a7b851",
   "metadata": {},
   "outputs": [],
   "source": [
    "# One-hot encode the 'Category' column using demand_agg\n",
    "category_dummies = pd.get_dummies(demand_agg['Category'], prefix='Category')\n",
    "Month_dummies = pd.get_dummies(demand_agg['Month'], prefix='Month')\n",
    "\n",
    "# Concatenate the one-hot encoded columns with the original dataframe\n",
    "demand_agg = pd.concat([demand_agg, category_dummies, Month_dummies], axis=1)"
   ]
  },
  {
   "cell_type": "code",
   "execution_count": 129,
   "id": "c72070ec",
   "metadata": {},
   "outputs": [
    {
     "data": {
      "text/html": [
       "<div>\n",
       "<style scoped>\n",
       "    .dataframe tbody tr th:only-of-type {\n",
       "        vertical-align: middle;\n",
       "    }\n",
       "\n",
       "    .dataframe tbody tr th {\n",
       "        vertical-align: top;\n",
       "    }\n",
       "\n",
       "    .dataframe thead th {\n",
       "        text-align: right;\n",
       "    }\n",
       "</style>\n",
       "<table border=\"1\" class=\"dataframe\">\n",
       "  <thead>\n",
       "    <tr style=\"text-align: right;\">\n",
       "      <th></th>\n",
       "      <th>Month</th>\n",
       "      <th>Category</th>\n",
       "      <th>Demand</th>\n",
       "      <th>Category_Apparel</th>\n",
       "      <th>Category_Electronics</th>\n",
       "      <th>Category_Grocery</th>\n",
       "      <th>Category_Home &amp; Kitchen</th>\n",
       "      <th>Category_Toys</th>\n",
       "      <th>Month_Apr_Demand</th>\n",
       "      <th>Month_Aug_Demand</th>\n",
       "      <th>Month_Dec_Demand</th>\n",
       "      <th>Month_Feb_Demand</th>\n",
       "      <th>Month_Jan_Demand</th>\n",
       "      <th>Month_Jul_Demand</th>\n",
       "      <th>Month_Jun_Demand</th>\n",
       "      <th>Month_Mar_Demand</th>\n",
       "      <th>Month_May_Demand</th>\n",
       "      <th>Month_Nov_Demand</th>\n",
       "      <th>Month_Oct_Demand</th>\n",
       "      <th>Month_Sep_Demand</th>\n",
       "    </tr>\n",
       "  </thead>\n",
       "  <tbody>\n",
       "    <tr>\n",
       "      <th>0</th>\n",
       "      <td>Apr_Demand</td>\n",
       "      <td>Apparel</td>\n",
       "      <td>116146</td>\n",
       "      <td>True</td>\n",
       "      <td>False</td>\n",
       "      <td>False</td>\n",
       "      <td>False</td>\n",
       "      <td>False</td>\n",
       "      <td>True</td>\n",
       "      <td>False</td>\n",
       "      <td>False</td>\n",
       "      <td>False</td>\n",
       "      <td>False</td>\n",
       "      <td>False</td>\n",
       "      <td>False</td>\n",
       "      <td>False</td>\n",
       "      <td>False</td>\n",
       "      <td>False</td>\n",
       "      <td>False</td>\n",
       "      <td>False</td>\n",
       "    </tr>\n",
       "    <tr>\n",
       "      <th>1</th>\n",
       "      <td>Apr_Demand</td>\n",
       "      <td>Electronics</td>\n",
       "      <td>52148</td>\n",
       "      <td>False</td>\n",
       "      <td>True</td>\n",
       "      <td>False</td>\n",
       "      <td>False</td>\n",
       "      <td>False</td>\n",
       "      <td>True</td>\n",
       "      <td>False</td>\n",
       "      <td>False</td>\n",
       "      <td>False</td>\n",
       "      <td>False</td>\n",
       "      <td>False</td>\n",
       "      <td>False</td>\n",
       "      <td>False</td>\n",
       "      <td>False</td>\n",
       "      <td>False</td>\n",
       "      <td>False</td>\n",
       "      <td>False</td>\n",
       "    </tr>\n",
       "    <tr>\n",
       "      <th>2</th>\n",
       "      <td>Apr_Demand</td>\n",
       "      <td>Grocery</td>\n",
       "      <td>1190590</td>\n",
       "      <td>False</td>\n",
       "      <td>False</td>\n",
       "      <td>True</td>\n",
       "      <td>False</td>\n",
       "      <td>False</td>\n",
       "      <td>True</td>\n",
       "      <td>False</td>\n",
       "      <td>False</td>\n",
       "      <td>False</td>\n",
       "      <td>False</td>\n",
       "      <td>False</td>\n",
       "      <td>False</td>\n",
       "      <td>False</td>\n",
       "      <td>False</td>\n",
       "      <td>False</td>\n",
       "      <td>False</td>\n",
       "      <td>False</td>\n",
       "    </tr>\n",
       "    <tr>\n",
       "      <th>3</th>\n",
       "      <td>Apr_Demand</td>\n",
       "      <td>Home &amp; Kitchen</td>\n",
       "      <td>24861</td>\n",
       "      <td>False</td>\n",
       "      <td>False</td>\n",
       "      <td>False</td>\n",
       "      <td>True</td>\n",
       "      <td>False</td>\n",
       "      <td>True</td>\n",
       "      <td>False</td>\n",
       "      <td>False</td>\n",
       "      <td>False</td>\n",
       "      <td>False</td>\n",
       "      <td>False</td>\n",
       "      <td>False</td>\n",
       "      <td>False</td>\n",
       "      <td>False</td>\n",
       "      <td>False</td>\n",
       "      <td>False</td>\n",
       "      <td>False</td>\n",
       "    </tr>\n",
       "    <tr>\n",
       "      <th>4</th>\n",
       "      <td>Apr_Demand</td>\n",
       "      <td>Toys</td>\n",
       "      <td>25497</td>\n",
       "      <td>False</td>\n",
       "      <td>False</td>\n",
       "      <td>False</td>\n",
       "      <td>False</td>\n",
       "      <td>True</td>\n",
       "      <td>True</td>\n",
       "      <td>False</td>\n",
       "      <td>False</td>\n",
       "      <td>False</td>\n",
       "      <td>False</td>\n",
       "      <td>False</td>\n",
       "      <td>False</td>\n",
       "      <td>False</td>\n",
       "      <td>False</td>\n",
       "      <td>False</td>\n",
       "      <td>False</td>\n",
       "      <td>False</td>\n",
       "    </tr>\n",
       "  </tbody>\n",
       "</table>\n",
       "</div>"
      ],
      "text/plain": [
       "        Month        Category   Demand  Category_Apparel  \\\n",
       "0  Apr_Demand         Apparel   116146              True   \n",
       "1  Apr_Demand     Electronics    52148             False   \n",
       "2  Apr_Demand         Grocery  1190590             False   \n",
       "3  Apr_Demand  Home & Kitchen    24861             False   \n",
       "4  Apr_Demand            Toys    25497             False   \n",
       "\n",
       "   Category_Electronics  Category_Grocery  Category_Home & Kitchen  \\\n",
       "0                 False             False                    False   \n",
       "1                  True             False                    False   \n",
       "2                 False              True                    False   \n",
       "3                 False             False                     True   \n",
       "4                 False             False                    False   \n",
       "\n",
       "   Category_Toys  Month_Apr_Demand  Month_Aug_Demand  Month_Dec_Demand  \\\n",
       "0          False              True             False             False   \n",
       "1          False              True             False             False   \n",
       "2          False              True             False             False   \n",
       "3          False              True             False             False   \n",
       "4           True              True             False             False   \n",
       "\n",
       "   Month_Feb_Demand  Month_Jan_Demand  Month_Jul_Demand  Month_Jun_Demand  \\\n",
       "0             False             False             False             False   \n",
       "1             False             False             False             False   \n",
       "2             False             False             False             False   \n",
       "3             False             False             False             False   \n",
       "4             False             False             False             False   \n",
       "\n",
       "   Month_Mar_Demand  Month_May_Demand  Month_Nov_Demand  Month_Oct_Demand  \\\n",
       "0             False             False             False             False   \n",
       "1             False             False             False             False   \n",
       "2             False             False             False             False   \n",
       "3             False             False             False             False   \n",
       "4             False             False             False             False   \n",
       "\n",
       "   Month_Sep_Demand  \n",
       "0             False  \n",
       "1             False  \n",
       "2             False  \n",
       "3             False  \n",
       "4             False  "
      ]
     },
     "execution_count": 129,
     "metadata": {},
     "output_type": "execute_result"
    }
   ],
   "source": [
    "#check updated datafra\n",
    "demand_agg.head()"
   ]
  },
  {
   "cell_type": "code",
   "execution_count": 180,
   "id": "c9e6d1c6",
   "metadata": {},
   "outputs": [],
   "source": [
    "#save Preprocessed data\n",
    "demand_agg.to_csv(r'C:\\Users\\Rebecca\\Desktop\\Demand forecast analysis\\Notebooks\\preprocessed_demand_agg.ipynb', index=False)"
   ]
  },
  {
   "cell_type": "markdown",
   "id": "b2d1def9",
   "metadata": {},
   "source": [
    "# Linear Regression Model"
   ]
  },
  {
   "cell_type": "markdown",
   "id": "4152cdaf",
   "metadata": {},
   "source": [
    "We are going to use the Linear Regression model to predict and forecast demand of Categories in the next 6 Month "
   ]
  },
  {
   "cell_type": "code",
   "execution_count": 131,
   "id": "ff60d409",
   "metadata": {},
   "outputs": [],
   "source": [
    "from sklearn.linear_model import LinearRegression"
   ]
  },
  {
   "cell_type": "code",
   "execution_count": 133,
   "id": "6489a241",
   "metadata": {},
   "outputs": [],
   "source": [
    "# Convert month to ordinal for regression\n",
    "demand_agg['Month_Ordinal'] = demand_agg['Month'].map(month_map)\n",
    "demand_agg['Month_Ordinal'] = pd.to_datetime(demand_agg['Month_Ordinal']).apply(lambda x: x.toordinal())"
   ]
  },
  {
   "cell_type": "code",
   "execution_count": 143,
   "id": "33c55d85",
   "metadata": {},
   "outputs": [],
   "source": [
    "from sklearn.preprocessing import LabelEncoder"
   ]
  },
  {
   "cell_type": "code",
   "execution_count": 144,
   "id": "6cb3dc97",
   "metadata": {},
   "outputs": [],
   "source": [
    "#LabelEncoder\n",
    "label_encoder = LabelEncoder()\n",
    "\n",
    "# Encode the 'Category' column\n",
    "demand_agg['Category'] = label_encoder.fit_transform(demand_agg['Category'])\n",
    "\n",
    "# Encode the 'Month' column\n",
    "demand_agg['Month'] = label_encoder.fit_transform(demand_agg['Month'])"
   ]
  },
  {
   "cell_type": "code",
   "execution_count": 145,
   "id": "6d0fe663",
   "metadata": {},
   "outputs": [],
   "source": [
    "# Define features and target in the dataset\n",
    "X = demand_agg[['Month', 'Category', 'Demand', 'Category_Apparel', 'Category_Electronics', 'Category_Grocery', 'Category_Home & Kitchen', 'Category_Toys']]\n",
    "y = demand_agg['Demand']"
   ]
  },
  {
   "cell_type": "code",
   "execution_count": 146,
   "id": "1a4ccd84",
   "metadata": {},
   "outputs": [
    {
     "data": {
      "text/html": [
       "<style>#sk-container-id-2 {\n",
       "  /* Definition of color scheme common for light and dark mode */\n",
       "  --sklearn-color-text: black;\n",
       "  --sklearn-color-line: gray;\n",
       "  /* Definition of color scheme for unfitted estimators */\n",
       "  --sklearn-color-unfitted-level-0: #fff5e6;\n",
       "  --sklearn-color-unfitted-level-1: #f6e4d2;\n",
       "  --sklearn-color-unfitted-level-2: #ffe0b3;\n",
       "  --sklearn-color-unfitted-level-3: chocolate;\n",
       "  /* Definition of color scheme for fitted estimators */\n",
       "  --sklearn-color-fitted-level-0: #f0f8ff;\n",
       "  --sklearn-color-fitted-level-1: #d4ebff;\n",
       "  --sklearn-color-fitted-level-2: #b3dbfd;\n",
       "  --sklearn-color-fitted-level-3: cornflowerblue;\n",
       "\n",
       "  /* Specific color for light theme */\n",
       "  --sklearn-color-text-on-default-background: var(--sg-text-color, var(--theme-code-foreground, var(--jp-content-font-color1, black)));\n",
       "  --sklearn-color-background: var(--sg-background-color, var(--theme-background, var(--jp-layout-color0, white)));\n",
       "  --sklearn-color-border-box: var(--sg-text-color, var(--theme-code-foreground, var(--jp-content-font-color1, black)));\n",
       "  --sklearn-color-icon: #696969;\n",
       "\n",
       "  @media (prefers-color-scheme: dark) {\n",
       "    /* Redefinition of color scheme for dark theme */\n",
       "    --sklearn-color-text-on-default-background: var(--sg-text-color, var(--theme-code-foreground, var(--jp-content-font-color1, white)));\n",
       "    --sklearn-color-background: var(--sg-background-color, var(--theme-background, var(--jp-layout-color0, #111)));\n",
       "    --sklearn-color-border-box: var(--sg-text-color, var(--theme-code-foreground, var(--jp-content-font-color1, white)));\n",
       "    --sklearn-color-icon: #878787;\n",
       "  }\n",
       "}\n",
       "\n",
       "#sk-container-id-2 {\n",
       "  color: var(--sklearn-color-text);\n",
       "}\n",
       "\n",
       "#sk-container-id-2 pre {\n",
       "  padding: 0;\n",
       "}\n",
       "\n",
       "#sk-container-id-2 input.sk-hidden--visually {\n",
       "  border: 0;\n",
       "  clip: rect(1px 1px 1px 1px);\n",
       "  clip: rect(1px, 1px, 1px, 1px);\n",
       "  height: 1px;\n",
       "  margin: -1px;\n",
       "  overflow: hidden;\n",
       "  padding: 0;\n",
       "  position: absolute;\n",
       "  width: 1px;\n",
       "}\n",
       "\n",
       "#sk-container-id-2 div.sk-dashed-wrapped {\n",
       "  border: 1px dashed var(--sklearn-color-line);\n",
       "  margin: 0 0.4em 0.5em 0.4em;\n",
       "  box-sizing: border-box;\n",
       "  padding-bottom: 0.4em;\n",
       "  background-color: var(--sklearn-color-background);\n",
       "}\n",
       "\n",
       "#sk-container-id-2 div.sk-container {\n",
       "  /* jupyter's `normalize.less` sets `[hidden] { display: none; }`\n",
       "     but bootstrap.min.css set `[hidden] { display: none !important; }`\n",
       "     so we also need the `!important` here to be able to override the\n",
       "     default hidden behavior on the sphinx rendered scikit-learn.org.\n",
       "     See: https://github.com/scikit-learn/scikit-learn/issues/21755 */\n",
       "  display: inline-block !important;\n",
       "  position: relative;\n",
       "}\n",
       "\n",
       "#sk-container-id-2 div.sk-text-repr-fallback {\n",
       "  display: none;\n",
       "}\n",
       "\n",
       "div.sk-parallel-item,\n",
       "div.sk-serial,\n",
       "div.sk-item {\n",
       "  /* draw centered vertical line to link estimators */\n",
       "  background-image: linear-gradient(var(--sklearn-color-text-on-default-background), var(--sklearn-color-text-on-default-background));\n",
       "  background-size: 2px 100%;\n",
       "  background-repeat: no-repeat;\n",
       "  background-position: center center;\n",
       "}\n",
       "\n",
       "/* Parallel-specific style estimator block */\n",
       "\n",
       "#sk-container-id-2 div.sk-parallel-item::after {\n",
       "  content: \"\";\n",
       "  width: 100%;\n",
       "  border-bottom: 2px solid var(--sklearn-color-text-on-default-background);\n",
       "  flex-grow: 1;\n",
       "}\n",
       "\n",
       "#sk-container-id-2 div.sk-parallel {\n",
       "  display: flex;\n",
       "  align-items: stretch;\n",
       "  justify-content: center;\n",
       "  background-color: var(--sklearn-color-background);\n",
       "  position: relative;\n",
       "}\n",
       "\n",
       "#sk-container-id-2 div.sk-parallel-item {\n",
       "  display: flex;\n",
       "  flex-direction: column;\n",
       "}\n",
       "\n",
       "#sk-container-id-2 div.sk-parallel-item:first-child::after {\n",
       "  align-self: flex-end;\n",
       "  width: 50%;\n",
       "}\n",
       "\n",
       "#sk-container-id-2 div.sk-parallel-item:last-child::after {\n",
       "  align-self: flex-start;\n",
       "  width: 50%;\n",
       "}\n",
       "\n",
       "#sk-container-id-2 div.sk-parallel-item:only-child::after {\n",
       "  width: 0;\n",
       "}\n",
       "\n",
       "/* Serial-specific style estimator block */\n",
       "\n",
       "#sk-container-id-2 div.sk-serial {\n",
       "  display: flex;\n",
       "  flex-direction: column;\n",
       "  align-items: center;\n",
       "  background-color: var(--sklearn-color-background);\n",
       "  padding-right: 1em;\n",
       "  padding-left: 1em;\n",
       "}\n",
       "\n",
       "\n",
       "/* Toggleable style: style used for estimator/Pipeline/ColumnTransformer box that is\n",
       "clickable and can be expanded/collapsed.\n",
       "- Pipeline and ColumnTransformer use this feature and define the default style\n",
       "- Estimators will overwrite some part of the style using the `sk-estimator` class\n",
       "*/\n",
       "\n",
       "/* Pipeline and ColumnTransformer style (default) */\n",
       "\n",
       "#sk-container-id-2 div.sk-toggleable {\n",
       "  /* Default theme specific background. It is overwritten whether we have a\n",
       "  specific estimator or a Pipeline/ColumnTransformer */\n",
       "  background-color: var(--sklearn-color-background);\n",
       "}\n",
       "\n",
       "/* Toggleable label */\n",
       "#sk-container-id-2 label.sk-toggleable__label {\n",
       "  cursor: pointer;\n",
       "  display: block;\n",
       "  width: 100%;\n",
       "  margin-bottom: 0;\n",
       "  padding: 0.5em;\n",
       "  box-sizing: border-box;\n",
       "  text-align: center;\n",
       "}\n",
       "\n",
       "#sk-container-id-2 label.sk-toggleable__label-arrow:before {\n",
       "  /* Arrow on the left of the label */\n",
       "  content: \"▸\";\n",
       "  float: left;\n",
       "  margin-right: 0.25em;\n",
       "  color: var(--sklearn-color-icon);\n",
       "}\n",
       "\n",
       "#sk-container-id-2 label.sk-toggleable__label-arrow:hover:before {\n",
       "  color: var(--sklearn-color-text);\n",
       "}\n",
       "\n",
       "/* Toggleable content - dropdown */\n",
       "\n",
       "#sk-container-id-2 div.sk-toggleable__content {\n",
       "  max-height: 0;\n",
       "  max-width: 0;\n",
       "  overflow: hidden;\n",
       "  text-align: left;\n",
       "  /* unfitted */\n",
       "  background-color: var(--sklearn-color-unfitted-level-0);\n",
       "}\n",
       "\n",
       "#sk-container-id-2 div.sk-toggleable__content.fitted {\n",
       "  /* fitted */\n",
       "  background-color: var(--sklearn-color-fitted-level-0);\n",
       "}\n",
       "\n",
       "#sk-container-id-2 div.sk-toggleable__content pre {\n",
       "  margin: 0.2em;\n",
       "  border-radius: 0.25em;\n",
       "  color: var(--sklearn-color-text);\n",
       "  /* unfitted */\n",
       "  background-color: var(--sklearn-color-unfitted-level-0);\n",
       "}\n",
       "\n",
       "#sk-container-id-2 div.sk-toggleable__content.fitted pre {\n",
       "  /* unfitted */\n",
       "  background-color: var(--sklearn-color-fitted-level-0);\n",
       "}\n",
       "\n",
       "#sk-container-id-2 input.sk-toggleable__control:checked~div.sk-toggleable__content {\n",
       "  /* Expand drop-down */\n",
       "  max-height: 200px;\n",
       "  max-width: 100%;\n",
       "  overflow: auto;\n",
       "}\n",
       "\n",
       "#sk-container-id-2 input.sk-toggleable__control:checked~label.sk-toggleable__label-arrow:before {\n",
       "  content: \"▾\";\n",
       "}\n",
       "\n",
       "/* Pipeline/ColumnTransformer-specific style */\n",
       "\n",
       "#sk-container-id-2 div.sk-label input.sk-toggleable__control:checked~label.sk-toggleable__label {\n",
       "  color: var(--sklearn-color-text);\n",
       "  background-color: var(--sklearn-color-unfitted-level-2);\n",
       "}\n",
       "\n",
       "#sk-container-id-2 div.sk-label.fitted input.sk-toggleable__control:checked~label.sk-toggleable__label {\n",
       "  background-color: var(--sklearn-color-fitted-level-2);\n",
       "}\n",
       "\n",
       "/* Estimator-specific style */\n",
       "\n",
       "/* Colorize estimator box */\n",
       "#sk-container-id-2 div.sk-estimator input.sk-toggleable__control:checked~label.sk-toggleable__label {\n",
       "  /* unfitted */\n",
       "  background-color: var(--sklearn-color-unfitted-level-2);\n",
       "}\n",
       "\n",
       "#sk-container-id-2 div.sk-estimator.fitted input.sk-toggleable__control:checked~label.sk-toggleable__label {\n",
       "  /* fitted */\n",
       "  background-color: var(--sklearn-color-fitted-level-2);\n",
       "}\n",
       "\n",
       "#sk-container-id-2 div.sk-label label.sk-toggleable__label,\n",
       "#sk-container-id-2 div.sk-label label {\n",
       "  /* The background is the default theme color */\n",
       "  color: var(--sklearn-color-text-on-default-background);\n",
       "}\n",
       "\n",
       "/* On hover, darken the color of the background */\n",
       "#sk-container-id-2 div.sk-label:hover label.sk-toggleable__label {\n",
       "  color: var(--sklearn-color-text);\n",
       "  background-color: var(--sklearn-color-unfitted-level-2);\n",
       "}\n",
       "\n",
       "/* Label box, darken color on hover, fitted */\n",
       "#sk-container-id-2 div.sk-label.fitted:hover label.sk-toggleable__label.fitted {\n",
       "  color: var(--sklearn-color-text);\n",
       "  background-color: var(--sklearn-color-fitted-level-2);\n",
       "}\n",
       "\n",
       "/* Estimator label */\n",
       "\n",
       "#sk-container-id-2 div.sk-label label {\n",
       "  font-family: monospace;\n",
       "  font-weight: bold;\n",
       "  display: inline-block;\n",
       "  line-height: 1.2em;\n",
       "}\n",
       "\n",
       "#sk-container-id-2 div.sk-label-container {\n",
       "  text-align: center;\n",
       "}\n",
       "\n",
       "/* Estimator-specific */\n",
       "#sk-container-id-2 div.sk-estimator {\n",
       "  font-family: monospace;\n",
       "  border: 1px dotted var(--sklearn-color-border-box);\n",
       "  border-radius: 0.25em;\n",
       "  box-sizing: border-box;\n",
       "  margin-bottom: 0.5em;\n",
       "  /* unfitted */\n",
       "  background-color: var(--sklearn-color-unfitted-level-0);\n",
       "}\n",
       "\n",
       "#sk-container-id-2 div.sk-estimator.fitted {\n",
       "  /* fitted */\n",
       "  background-color: var(--sklearn-color-fitted-level-0);\n",
       "}\n",
       "\n",
       "/* on hover */\n",
       "#sk-container-id-2 div.sk-estimator:hover {\n",
       "  /* unfitted */\n",
       "  background-color: var(--sklearn-color-unfitted-level-2);\n",
       "}\n",
       "\n",
       "#sk-container-id-2 div.sk-estimator.fitted:hover {\n",
       "  /* fitted */\n",
       "  background-color: var(--sklearn-color-fitted-level-2);\n",
       "}\n",
       "\n",
       "/* Specification for estimator info (e.g. \"i\" and \"?\") */\n",
       "\n",
       "/* Common style for \"i\" and \"?\" */\n",
       "\n",
       ".sk-estimator-doc-link,\n",
       "a:link.sk-estimator-doc-link,\n",
       "a:visited.sk-estimator-doc-link {\n",
       "  float: right;\n",
       "  font-size: smaller;\n",
       "  line-height: 1em;\n",
       "  font-family: monospace;\n",
       "  background-color: var(--sklearn-color-background);\n",
       "  border-radius: 1em;\n",
       "  height: 1em;\n",
       "  width: 1em;\n",
       "  text-decoration: none !important;\n",
       "  margin-left: 1ex;\n",
       "  /* unfitted */\n",
       "  border: var(--sklearn-color-unfitted-level-1) 1pt solid;\n",
       "  color: var(--sklearn-color-unfitted-level-1);\n",
       "}\n",
       "\n",
       ".sk-estimator-doc-link.fitted,\n",
       "a:link.sk-estimator-doc-link.fitted,\n",
       "a:visited.sk-estimator-doc-link.fitted {\n",
       "  /* fitted */\n",
       "  border: var(--sklearn-color-fitted-level-1) 1pt solid;\n",
       "  color: var(--sklearn-color-fitted-level-1);\n",
       "}\n",
       "\n",
       "/* On hover */\n",
       "div.sk-estimator:hover .sk-estimator-doc-link:hover,\n",
       ".sk-estimator-doc-link:hover,\n",
       "div.sk-label-container:hover .sk-estimator-doc-link:hover,\n",
       ".sk-estimator-doc-link:hover {\n",
       "  /* unfitted */\n",
       "  background-color: var(--sklearn-color-unfitted-level-3);\n",
       "  color: var(--sklearn-color-background);\n",
       "  text-decoration: none;\n",
       "}\n",
       "\n",
       "div.sk-estimator.fitted:hover .sk-estimator-doc-link.fitted:hover,\n",
       ".sk-estimator-doc-link.fitted:hover,\n",
       "div.sk-label-container:hover .sk-estimator-doc-link.fitted:hover,\n",
       ".sk-estimator-doc-link.fitted:hover {\n",
       "  /* fitted */\n",
       "  background-color: var(--sklearn-color-fitted-level-3);\n",
       "  color: var(--sklearn-color-background);\n",
       "  text-decoration: none;\n",
       "}\n",
       "\n",
       "/* Span, style for the box shown on hovering the info icon */\n",
       ".sk-estimator-doc-link span {\n",
       "  display: none;\n",
       "  z-index: 9999;\n",
       "  position: relative;\n",
       "  font-weight: normal;\n",
       "  right: .2ex;\n",
       "  padding: .5ex;\n",
       "  margin: .5ex;\n",
       "  width: min-content;\n",
       "  min-width: 20ex;\n",
       "  max-width: 50ex;\n",
       "  color: var(--sklearn-color-text);\n",
       "  box-shadow: 2pt 2pt 4pt #999;\n",
       "  /* unfitted */\n",
       "  background: var(--sklearn-color-unfitted-level-0);\n",
       "  border: .5pt solid var(--sklearn-color-unfitted-level-3);\n",
       "}\n",
       "\n",
       ".sk-estimator-doc-link.fitted span {\n",
       "  /* fitted */\n",
       "  background: var(--sklearn-color-fitted-level-0);\n",
       "  border: var(--sklearn-color-fitted-level-3);\n",
       "}\n",
       "\n",
       ".sk-estimator-doc-link:hover span {\n",
       "  display: block;\n",
       "}\n",
       "\n",
       "/* \"?\"-specific style due to the `<a>` HTML tag */\n",
       "\n",
       "#sk-container-id-2 a.estimator_doc_link {\n",
       "  float: right;\n",
       "  font-size: 1rem;\n",
       "  line-height: 1em;\n",
       "  font-family: monospace;\n",
       "  background-color: var(--sklearn-color-background);\n",
       "  border-radius: 1rem;\n",
       "  height: 1rem;\n",
       "  width: 1rem;\n",
       "  text-decoration: none;\n",
       "  /* unfitted */\n",
       "  color: var(--sklearn-color-unfitted-level-1);\n",
       "  border: var(--sklearn-color-unfitted-level-1) 1pt solid;\n",
       "}\n",
       "\n",
       "#sk-container-id-2 a.estimator_doc_link.fitted {\n",
       "  /* fitted */\n",
       "  border: var(--sklearn-color-fitted-level-1) 1pt solid;\n",
       "  color: var(--sklearn-color-fitted-level-1);\n",
       "}\n",
       "\n",
       "/* On hover */\n",
       "#sk-container-id-2 a.estimator_doc_link:hover {\n",
       "  /* unfitted */\n",
       "  background-color: var(--sklearn-color-unfitted-level-3);\n",
       "  color: var(--sklearn-color-background);\n",
       "  text-decoration: none;\n",
       "}\n",
       "\n",
       "#sk-container-id-2 a.estimator_doc_link.fitted:hover {\n",
       "  /* fitted */\n",
       "  background-color: var(--sklearn-color-fitted-level-3);\n",
       "}\n",
       "</style><div id=\"sk-container-id-2\" class=\"sk-top-container\"><div class=\"sk-text-repr-fallback\"><pre>LinearRegression()</pre><b>In a Jupyter environment, please rerun this cell to show the HTML representation or trust the notebook. <br />On GitHub, the HTML representation is unable to render, please try loading this page with nbviewer.org.</b></div><div class=\"sk-container\" hidden><div class=\"sk-item\"><div class=\"sk-estimator fitted sk-toggleable\"><input class=\"sk-toggleable__control sk-hidden--visually\" id=\"sk-estimator-id-2\" type=\"checkbox\" checked><label for=\"sk-estimator-id-2\" class=\"sk-toggleable__label fitted sk-toggleable__label-arrow fitted\">&nbsp;&nbsp;LinearRegression<a class=\"sk-estimator-doc-link fitted\" rel=\"noreferrer\" target=\"_blank\" href=\"https://scikit-learn.org/1.5/modules/generated/sklearn.linear_model.LinearRegression.html\">?<span>Documentation for LinearRegression</span></a><span class=\"sk-estimator-doc-link fitted\">i<span>Fitted</span></span></label><div class=\"sk-toggleable__content fitted\"><pre>LinearRegression()</pre></div> </div></div></div></div>"
      ],
      "text/plain": [
       "LinearRegression()"
      ]
     },
     "execution_count": 146,
     "metadata": {},
     "output_type": "execute_result"
    }
   ],
   "source": [
    "#fit the linear regression model\n",
    "model = LinearRegression()\n",
    "model.fit(X, y)"
   ]
  },
  {
   "cell_type": "code",
   "execution_count": 153,
   "id": "f6513311",
   "metadata": {},
   "outputs": [],
   "source": [
    "#forecast demand for the next 12 months\n",
    "future_months = pd.date_range(start='2024-01-01', periods=12, freq='ME')\n",
    "future_months_ordinal = future_months.map(lambda x: x.toordinal())\n",
    "future_categories = demand_agg['Category'].unique()\n"
   ]
  },
  {
   "cell_type": "code",
   "execution_count": 149,
   "id": "4ab4a6f5",
   "metadata": {},
   "outputs": [],
   "source": [
    "#create a DataFrame for future predictions\n",
    "future_data = pd.DataFrame({\n",
    "    'Month': future_months_ordinal,\n",
    "    'Category': np.tile(future_categories, len(future_months) // len(future_categories) + 1)[:len(future_months)],\n",
    "})\n"
   ]
  },
  {
   "cell_type": "code",
   "execution_count": 155,
   "id": "d952373f",
   "metadata": {},
   "outputs": [],
   "source": [
    "#add one-hot encoded columns for future data\n",
    "for category in demand_agg['Category'].unique():\n",
    "    future_data[f'Category_{category}'] = (future_data['Category'] == category).astype(int)\n",
    "#add the month ordinal column\n",
    "future_data['Month_Ordinal'] = future_data['Month']"
   ]
  },
  {
   "cell_type": "code",
   "execution_count": 162,
   "id": "0b21c8ec",
   "metadata": {},
   "outputs": [],
   "source": [
    "# Forecast demand for the next 6 months\n",
    "\n",
    "# Get the last available month ordinal from demand_agg\n",
    "last_month_ordinal = demand_agg['Month_Ordinal'].max()\n",
    "last_month_date = pd.Timestamp.fromordinal(last_month_ordinal)\n",
    "\n",
    "# Generate the next 6 months\n",
    "future_months = pd.date_range(start=last_month_date + pd.offsets.MonthBegin(1), periods=6, freq='MS')\n",
    "future_months_ordinal = future_months.to_series().apply(lambda x: x.toordinal()).values\n",
    "\n",
    "# Get all unique categories as used in training\n",
    "categories = demand_agg['Category'].unique()\n",
    "\n",
    "# Prepare the input DataFrame for prediction\n",
    "future_rows = []\n",
    "for month_ord, month_dt in zip(future_months_ordinal, future_months):\n",
    "\tfor cat in categories:\n",
    "\t\trow = {\n",
    "\t\t\t'Month': cat,  # The model was trained with encoded month as integer, but here 'Month' is category index\n",
    "\t\t\t'Category': cat,\n",
    "\t\t\t'Demand': 0,  # Placeholder, as in training this is the target, but in X it's a feature (may need to drop)\n",
    "\t\t\t'Category_Apparel': cat == 0,\n",
    "\t\t\t'Category_Electronics': cat == 1,\n",
    "\t\t\t'Category_Grocery': cat == 2,\n",
    "\t\t\t'Category_Home & Kitchen': cat == 3,\n",
    "\t\t\t'Category_Toys': cat == 4\n",
    "\t\t}\n",
    "\t\tfuture_rows.append(row)\n",
    "\n",
    "future_X = pd.DataFrame(future_rows)\n",
    "\n",
    "# The model was trained with 'Month' as encoded integer, so set 'Month' as the correct value\n",
    "future_X['Month'] = np.repeat(np.arange(len(future_months)), len(categories))\n",
    "future_X['Demand'] = 0  # Set to 0 or drop if not needed\n",
    "\n",
    "# Reorder columns to match training\n",
    "X_cols = ['Month', 'Category', 'Demand', 'Category_Apparel', 'Category_Electronics', 'Category_Grocery', 'Category_Home & Kitchen', 'Category_Toys']\n",
    "future_X = future_X[X_cols]\n",
    "\n",
    "# Predict\n",
    "forecasted_demand = model.predict(future_X)\n"
   ]
  },
  {
   "cell_type": "code",
   "execution_count": 171,
   "id": "6100195a",
   "metadata": {},
   "outputs": [
    {
     "data": {
      "text/plain": [
       "array([1.81690422e-09, 8.06558593e-10, 2.12089510e-08, 5.55753754e-10,\n",
       "       6.86929956e-10, 1.81414767e-09, 8.03802046e-10, 2.12061945e-08,\n",
       "       5.52997207e-10, 6.84173409e-10, 1.81139113e-09, 8.01045500e-10,\n",
       "       2.12034379e-08, 5.50240661e-10, 6.81416862e-10, 1.80863458e-09,\n",
       "       7.98288953e-10, 2.12006814e-08, 5.47484114e-10, 6.78660315e-10,\n",
       "       1.80587803e-09, 7.95532406e-10, 2.11979248e-08, 5.44727567e-10,\n",
       "       6.75903768e-10, 1.80312149e-09, 7.92775859e-10, 2.11951683e-08,\n",
       "       5.41971020e-10, 6.73147222e-10])"
      ]
     },
     "execution_count": 171,
     "metadata": {},
     "output_type": "execute_result"
    }
   ],
   "source": [
    "# Prepare the forecasted demand DataFrame\n",
    "future_months = future_months.strftime('%Y-%m').tolist()\n",
    "\n",
    "months_repeated = np.repeat(future_months, len(categories))\n",
    "categories_tiled = np.tile(categories, len(future_months))\n",
    "\n",
    "forecasted_demand_df = pd.DataFrame({\n",
    "    'Month': months_repeated,\n",
    "    'Category': categories_tiled,\n",
    "    'Forecasted_Demand': forecasted_demand\n",
    "})\n",
    "\n",
    "forecasted_demand"
   ]
  },
  {
   "cell_type": "code",
   "execution_count": 172,
   "id": "f5213083",
   "metadata": {},
   "outputs": [
    {
     "name": "stdout",
     "output_type": "stream",
     "text": [
      "     Month  Category  Forecasted_Demand\n",
      "0  2025-01         0       1.816904e-09\n",
      "1  2025-01         1       8.065586e-10\n",
      "2  2025-01         2       2.120895e-08\n",
      "3  2025-01         3       5.557538e-10\n",
      "4  2025-01         4       6.869300e-10\n",
      "5  2025-02         0       1.814148e-09\n",
      "6  2025-02         1       8.038020e-10\n",
      "7  2025-02         2       2.120619e-08\n",
      "8  2025-02         3       5.529972e-10\n",
      "9  2025-02         4       6.841734e-10\n"
     ]
    }
   ],
   "source": [
    "#display the forecasted demand\n",
    "print(forecasted_demand_df.head(10))"
   ]
  },
  {
   "cell_type": "code",
   "execution_count": 174,
   "id": "53f36e25",
   "metadata": {},
   "outputs": [
    {
     "data": {
      "application/vnd.plotly.v1+json": {
       "config": {
        "plotlyServerURL": "https://plot.ly"
       },
       "data": [
        {
         "hovertemplate": "Category=0<br>Month=%{x}<br>Monthly Demand=%{y}<extra></extra>",
         "legendgroup": "0",
         "line": {
          "color": "#636efa",
          "dash": "solid"
         },
         "marker": {
          "symbol": "circle"
         },
         "mode": "lines",
         "name": "0",
         "orientation": "v",
         "showlegend": true,
         "type": "scatter",
         "x": [
          0,
          1,
          2,
          3,
          4,
          5,
          6,
          7,
          8,
          9,
          10,
          11
         ],
         "xaxis": "x",
         "y": [
          116146,
          114002,
          117272,
          118400,
          117009,
          111528,
          118922,
          119780,
          115961,
          120102,
          118380,
          117454
         ],
         "yaxis": "y"
        },
        {
         "hovertemplate": "Category=1<br>Month=%{x}<br>Monthly Demand=%{y}<extra></extra>",
         "legendgroup": "1",
         "line": {
          "color": "#EF553B",
          "dash": "solid"
         },
         "marker": {
          "symbol": "circle"
         },
         "mode": "lines",
         "name": "1",
         "orientation": "v",
         "showlegend": true,
         "type": "scatter",
         "x": [
          0,
          1,
          2,
          3,
          4,
          5,
          6,
          7,
          8,
          9,
          10,
          11
         ],
         "xaxis": "x",
         "y": [
          52148,
          51687,
          51910,
          51894,
          51897,
          52227,
          52151,
          51947,
          52086,
          52406,
          51961,
          52308
         ],
         "yaxis": "y"
        },
        {
         "hovertemplate": "Category=2<br>Month=%{x}<br>Monthly Demand=%{y}<extra></extra>",
         "legendgroup": "2",
         "line": {
          "color": "#00cc96",
          "dash": "solid"
         },
         "marker": {
          "symbol": "circle"
         },
         "mode": "lines",
         "name": "2",
         "orientation": "v",
         "showlegend": true,
         "type": "scatter",
         "x": [
          0,
          1,
          2,
          3,
          4,
          5,
          6,
          7,
          8,
          9,
          10,
          11
         ],
         "xaxis": "x",
         "y": [
          1190590,
          1187350,
          1200111,
          1197877,
          1199093,
          1196798,
          1191304,
          1199559,
          1193236,
          1190949,
          1191018,
          1190849
         ],
         "yaxis": "y"
        },
        {
         "hovertemplate": "Category=3<br>Month=%{x}<br>Monthly Demand=%{y}<extra></extra>",
         "legendgroup": "3",
         "line": {
          "color": "#ab63fa",
          "dash": "solid"
         },
         "marker": {
          "symbol": "circle"
         },
         "mode": "lines",
         "name": "3",
         "orientation": "v",
         "showlegend": true,
         "type": "scatter",
         "x": [
          0,
          1,
          2,
          3,
          4,
          5,
          6,
          7,
          8,
          9,
          10,
          11
         ],
         "xaxis": "x",
         "y": [
          24861,
          24990,
          24630,
          24911,
          24444,
          24484,
          25056,
          24553,
          24660,
          24684,
          24768,
          24769
         ],
         "yaxis": "y"
        },
        {
         "hovertemplate": "Category=4<br>Month=%{x}<br>Monthly Demand=%{y}<extra></extra>",
         "legendgroup": "4",
         "line": {
          "color": "#FFA15A",
          "dash": "solid"
         },
         "marker": {
          "symbol": "circle"
         },
         "mode": "lines",
         "name": "4",
         "orientation": "v",
         "showlegend": true,
         "type": "scatter",
         "x": [
          0,
          1,
          2,
          3,
          4,
          5,
          6,
          7,
          8,
          9,
          10,
          11
         ],
         "xaxis": "x",
         "y": [
          25497,
          25692,
          25458,
          25312,
          26072,
          25521,
          25420,
          25400,
          25819,
          25281,
          25573,
          25729
         ],
         "yaxis": "y"
        }
       ],
       "layout": {
        "legend": {
         "title": {
          "text": "Category"
         },
         "tracegroupgap": 0
        },
        "template": {
         "data": {
          "bar": [
           {
            "error_x": {
             "color": "#2a3f5f"
            },
            "error_y": {
             "color": "#2a3f5f"
            },
            "marker": {
             "line": {
              "color": "#E5ECF6",
              "width": 0.5
             },
             "pattern": {
              "fillmode": "overlay",
              "size": 10,
              "solidity": 0.2
             }
            },
            "type": "bar"
           }
          ],
          "barpolar": [
           {
            "marker": {
             "line": {
              "color": "#E5ECF6",
              "width": 0.5
             },
             "pattern": {
              "fillmode": "overlay",
              "size": 10,
              "solidity": 0.2
             }
            },
            "type": "barpolar"
           }
          ],
          "carpet": [
           {
            "aaxis": {
             "endlinecolor": "#2a3f5f",
             "gridcolor": "white",
             "linecolor": "white",
             "minorgridcolor": "white",
             "startlinecolor": "#2a3f5f"
            },
            "baxis": {
             "endlinecolor": "#2a3f5f",
             "gridcolor": "white",
             "linecolor": "white",
             "minorgridcolor": "white",
             "startlinecolor": "#2a3f5f"
            },
            "type": "carpet"
           }
          ],
          "choropleth": [
           {
            "colorbar": {
             "outlinewidth": 0,
             "ticks": ""
            },
            "type": "choropleth"
           }
          ],
          "contour": [
           {
            "colorbar": {
             "outlinewidth": 0,
             "ticks": ""
            },
            "colorscale": [
             [
              0,
              "#0d0887"
             ],
             [
              0.1111111111111111,
              "#46039f"
             ],
             [
              0.2222222222222222,
              "#7201a8"
             ],
             [
              0.3333333333333333,
              "#9c179e"
             ],
             [
              0.4444444444444444,
              "#bd3786"
             ],
             [
              0.5555555555555556,
              "#d8576b"
             ],
             [
              0.6666666666666666,
              "#ed7953"
             ],
             [
              0.7777777777777778,
              "#fb9f3a"
             ],
             [
              0.8888888888888888,
              "#fdca26"
             ],
             [
              1,
              "#f0f921"
             ]
            ],
            "type": "contour"
           }
          ],
          "contourcarpet": [
           {
            "colorbar": {
             "outlinewidth": 0,
             "ticks": ""
            },
            "type": "contourcarpet"
           }
          ],
          "heatmap": [
           {
            "colorbar": {
             "outlinewidth": 0,
             "ticks": ""
            },
            "colorscale": [
             [
              0,
              "#0d0887"
             ],
             [
              0.1111111111111111,
              "#46039f"
             ],
             [
              0.2222222222222222,
              "#7201a8"
             ],
             [
              0.3333333333333333,
              "#9c179e"
             ],
             [
              0.4444444444444444,
              "#bd3786"
             ],
             [
              0.5555555555555556,
              "#d8576b"
             ],
             [
              0.6666666666666666,
              "#ed7953"
             ],
             [
              0.7777777777777778,
              "#fb9f3a"
             ],
             [
              0.8888888888888888,
              "#fdca26"
             ],
             [
              1,
              "#f0f921"
             ]
            ],
            "type": "heatmap"
           }
          ],
          "heatmapgl": [
           {
            "colorbar": {
             "outlinewidth": 0,
             "ticks": ""
            },
            "colorscale": [
             [
              0,
              "#0d0887"
             ],
             [
              0.1111111111111111,
              "#46039f"
             ],
             [
              0.2222222222222222,
              "#7201a8"
             ],
             [
              0.3333333333333333,
              "#9c179e"
             ],
             [
              0.4444444444444444,
              "#bd3786"
             ],
             [
              0.5555555555555556,
              "#d8576b"
             ],
             [
              0.6666666666666666,
              "#ed7953"
             ],
             [
              0.7777777777777778,
              "#fb9f3a"
             ],
             [
              0.8888888888888888,
              "#fdca26"
             ],
             [
              1,
              "#f0f921"
             ]
            ],
            "type": "heatmapgl"
           }
          ],
          "histogram": [
           {
            "marker": {
             "pattern": {
              "fillmode": "overlay",
              "size": 10,
              "solidity": 0.2
             }
            },
            "type": "histogram"
           }
          ],
          "histogram2d": [
           {
            "colorbar": {
             "outlinewidth": 0,
             "ticks": ""
            },
            "colorscale": [
             [
              0,
              "#0d0887"
             ],
             [
              0.1111111111111111,
              "#46039f"
             ],
             [
              0.2222222222222222,
              "#7201a8"
             ],
             [
              0.3333333333333333,
              "#9c179e"
             ],
             [
              0.4444444444444444,
              "#bd3786"
             ],
             [
              0.5555555555555556,
              "#d8576b"
             ],
             [
              0.6666666666666666,
              "#ed7953"
             ],
             [
              0.7777777777777778,
              "#fb9f3a"
             ],
             [
              0.8888888888888888,
              "#fdca26"
             ],
             [
              1,
              "#f0f921"
             ]
            ],
            "type": "histogram2d"
           }
          ],
          "histogram2dcontour": [
           {
            "colorbar": {
             "outlinewidth": 0,
             "ticks": ""
            },
            "colorscale": [
             [
              0,
              "#0d0887"
             ],
             [
              0.1111111111111111,
              "#46039f"
             ],
             [
              0.2222222222222222,
              "#7201a8"
             ],
             [
              0.3333333333333333,
              "#9c179e"
             ],
             [
              0.4444444444444444,
              "#bd3786"
             ],
             [
              0.5555555555555556,
              "#d8576b"
             ],
             [
              0.6666666666666666,
              "#ed7953"
             ],
             [
              0.7777777777777778,
              "#fb9f3a"
             ],
             [
              0.8888888888888888,
              "#fdca26"
             ],
             [
              1,
              "#f0f921"
             ]
            ],
            "type": "histogram2dcontour"
           }
          ],
          "mesh3d": [
           {
            "colorbar": {
             "outlinewidth": 0,
             "ticks": ""
            },
            "type": "mesh3d"
           }
          ],
          "parcoords": [
           {
            "line": {
             "colorbar": {
              "outlinewidth": 0,
              "ticks": ""
             }
            },
            "type": "parcoords"
           }
          ],
          "pie": [
           {
            "automargin": true,
            "type": "pie"
           }
          ],
          "scatter": [
           {
            "fillpattern": {
             "fillmode": "overlay",
             "size": 10,
             "solidity": 0.2
            },
            "type": "scatter"
           }
          ],
          "scatter3d": [
           {
            "line": {
             "colorbar": {
              "outlinewidth": 0,
              "ticks": ""
             }
            },
            "marker": {
             "colorbar": {
              "outlinewidth": 0,
              "ticks": ""
             }
            },
            "type": "scatter3d"
           }
          ],
          "scattercarpet": [
           {
            "marker": {
             "colorbar": {
              "outlinewidth": 0,
              "ticks": ""
             }
            },
            "type": "scattercarpet"
           }
          ],
          "scattergeo": [
           {
            "marker": {
             "colorbar": {
              "outlinewidth": 0,
              "ticks": ""
             }
            },
            "type": "scattergeo"
           }
          ],
          "scattergl": [
           {
            "marker": {
             "colorbar": {
              "outlinewidth": 0,
              "ticks": ""
             }
            },
            "type": "scattergl"
           }
          ],
          "scattermapbox": [
           {
            "marker": {
             "colorbar": {
              "outlinewidth": 0,
              "ticks": ""
             }
            },
            "type": "scattermapbox"
           }
          ],
          "scatterpolar": [
           {
            "marker": {
             "colorbar": {
              "outlinewidth": 0,
              "ticks": ""
             }
            },
            "type": "scatterpolar"
           }
          ],
          "scatterpolargl": [
           {
            "marker": {
             "colorbar": {
              "outlinewidth": 0,
              "ticks": ""
             }
            },
            "type": "scatterpolargl"
           }
          ],
          "scatterternary": [
           {
            "marker": {
             "colorbar": {
              "outlinewidth": 0,
              "ticks": ""
             }
            },
            "type": "scatterternary"
           }
          ],
          "surface": [
           {
            "colorbar": {
             "outlinewidth": 0,
             "ticks": ""
            },
            "colorscale": [
             [
              0,
              "#0d0887"
             ],
             [
              0.1111111111111111,
              "#46039f"
             ],
             [
              0.2222222222222222,
              "#7201a8"
             ],
             [
              0.3333333333333333,
              "#9c179e"
             ],
             [
              0.4444444444444444,
              "#bd3786"
             ],
             [
              0.5555555555555556,
              "#d8576b"
             ],
             [
              0.6666666666666666,
              "#ed7953"
             ],
             [
              0.7777777777777778,
              "#fb9f3a"
             ],
             [
              0.8888888888888888,
              "#fdca26"
             ],
             [
              1,
              "#f0f921"
             ]
            ],
            "type": "surface"
           }
          ],
          "table": [
           {
            "cells": {
             "fill": {
              "color": "#EBF0F8"
             },
             "line": {
              "color": "white"
             }
            },
            "header": {
             "fill": {
              "color": "#C8D4E3"
             },
             "line": {
              "color": "white"
             }
            },
            "type": "table"
           }
          ]
         },
         "layout": {
          "annotationdefaults": {
           "arrowcolor": "#2a3f5f",
           "arrowhead": 0,
           "arrowwidth": 1
          },
          "autotypenumbers": "strict",
          "coloraxis": {
           "colorbar": {
            "outlinewidth": 0,
            "ticks": ""
           }
          },
          "colorscale": {
           "diverging": [
            [
             0,
             "#8e0152"
            ],
            [
             0.1,
             "#c51b7d"
            ],
            [
             0.2,
             "#de77ae"
            ],
            [
             0.3,
             "#f1b6da"
            ],
            [
             0.4,
             "#fde0ef"
            ],
            [
             0.5,
             "#f7f7f7"
            ],
            [
             0.6,
             "#e6f5d0"
            ],
            [
             0.7,
             "#b8e186"
            ],
            [
             0.8,
             "#7fbc41"
            ],
            [
             0.9,
             "#4d9221"
            ],
            [
             1,
             "#276419"
            ]
           ],
           "sequential": [
            [
             0,
             "#0d0887"
            ],
            [
             0.1111111111111111,
             "#46039f"
            ],
            [
             0.2222222222222222,
             "#7201a8"
            ],
            [
             0.3333333333333333,
             "#9c179e"
            ],
            [
             0.4444444444444444,
             "#bd3786"
            ],
            [
             0.5555555555555556,
             "#d8576b"
            ],
            [
             0.6666666666666666,
             "#ed7953"
            ],
            [
             0.7777777777777778,
             "#fb9f3a"
            ],
            [
             0.8888888888888888,
             "#fdca26"
            ],
            [
             1,
             "#f0f921"
            ]
           ],
           "sequentialminus": [
            [
             0,
             "#0d0887"
            ],
            [
             0.1111111111111111,
             "#46039f"
            ],
            [
             0.2222222222222222,
             "#7201a8"
            ],
            [
             0.3333333333333333,
             "#9c179e"
            ],
            [
             0.4444444444444444,
             "#bd3786"
            ],
            [
             0.5555555555555556,
             "#d8576b"
            ],
            [
             0.6666666666666666,
             "#ed7953"
            ],
            [
             0.7777777777777778,
             "#fb9f3a"
            ],
            [
             0.8888888888888888,
             "#fdca26"
            ],
            [
             1,
             "#f0f921"
            ]
           ]
          },
          "colorway": [
           "#636efa",
           "#EF553B",
           "#00cc96",
           "#ab63fa",
           "#FFA15A",
           "#19d3f3",
           "#FF6692",
           "#B6E880",
           "#FF97FF",
           "#FECB52"
          ],
          "font": {
           "color": "#2a3f5f"
          },
          "geo": {
           "bgcolor": "white",
           "lakecolor": "white",
           "landcolor": "#E5ECF6",
           "showlakes": true,
           "showland": true,
           "subunitcolor": "white"
          },
          "hoverlabel": {
           "align": "left"
          },
          "hovermode": "closest",
          "mapbox": {
           "style": "light"
          },
          "paper_bgcolor": "white",
          "plot_bgcolor": "#E5ECF6",
          "polar": {
           "angularaxis": {
            "gridcolor": "white",
            "linecolor": "white",
            "ticks": ""
           },
           "bgcolor": "#E5ECF6",
           "radialaxis": {
            "gridcolor": "white",
            "linecolor": "white",
            "ticks": ""
           }
          },
          "scene": {
           "xaxis": {
            "backgroundcolor": "#E5ECF6",
            "gridcolor": "white",
            "gridwidth": 2,
            "linecolor": "white",
            "showbackground": true,
            "ticks": "",
            "zerolinecolor": "white"
           },
           "yaxis": {
            "backgroundcolor": "#E5ECF6",
            "gridcolor": "white",
            "gridwidth": 2,
            "linecolor": "white",
            "showbackground": true,
            "ticks": "",
            "zerolinecolor": "white"
           },
           "zaxis": {
            "backgroundcolor": "#E5ECF6",
            "gridcolor": "white",
            "gridwidth": 2,
            "linecolor": "white",
            "showbackground": true,
            "ticks": "",
            "zerolinecolor": "white"
           }
          },
          "shapedefaults": {
           "line": {
            "color": "#2a3f5f"
           }
          },
          "ternary": {
           "aaxis": {
            "gridcolor": "white",
            "linecolor": "white",
            "ticks": ""
           },
           "baxis": {
            "gridcolor": "white",
            "linecolor": "white",
            "ticks": ""
           },
           "bgcolor": "#E5ECF6",
           "caxis": {
            "gridcolor": "white",
            "linecolor": "white",
            "ticks": ""
           }
          },
          "title": {
           "x": 0.05
          },
          "xaxis": {
           "automargin": true,
           "gridcolor": "white",
           "linecolor": "white",
           "ticks": "",
           "title": {
            "standoff": 15
           },
           "zerolinecolor": "white",
           "zerolinewidth": 2
          },
          "yaxis": {
           "automargin": true,
           "gridcolor": "white",
           "linecolor": "white",
           "ticks": "",
           "title": {
            "standoff": 15
           },
           "zerolinecolor": "white",
           "zerolinewidth": 2
          }
         }
        },
        "title": {
         "text": "Historical Monthly Demand by Category"
        },
        "xaxis": {
         "anchor": "y",
         "domain": [
          0,
          1
         ],
         "title": {
          "text": "Month"
         }
        },
        "yaxis": {
         "anchor": "x",
         "domain": [
          0,
          1
         ],
         "title": {
          "text": "Monthly Demand"
         }
        }
       }
      }
     },
     "metadata": {},
     "output_type": "display_data"
    }
   ],
   "source": [
    "#Plot the historical monthly demand by category as line charts to show the trend over time.\n",
    "fig = px.line(demand_agg, x='Month', y='Demand', color='Category', \n",
    "              title='Historical Monthly Demand by Category',\n",
    "              labels={'Demand': 'Monthly Demand', 'Month': 'Month'})\n",
    "fig.update_layout(xaxis_title='Month', yaxis_title='Monthly Demand')\n",
    "fig.show()"
   ]
  },
  {
   "cell_type": "code",
   "execution_count": 175,
   "id": "18608947",
   "metadata": {},
   "outputs": [
    {
     "data": {
      "application/vnd.plotly.v1+json": {
       "config": {
        "plotlyServerURL": "https://plot.ly"
       },
       "data": [
        {
         "hovertemplate": "Category=0<br>Month=%{x}<br>Monthly Forecasted Demand=%{y}<extra></extra>",
         "legendgroup": "0",
         "line": {
          "color": "#636efa",
          "dash": "solid"
         },
         "marker": {
          "symbol": "circle"
         },
         "mode": "lines",
         "name": "0",
         "orientation": "v",
         "showlegend": true,
         "type": "scatter",
         "x": [
          "2025-01",
          "2025-02",
          "2025-03",
          "2025-04",
          "2025-05",
          "2025-06"
         ],
         "xaxis": "x",
         "y": [
          1.8169042205579652e-9,
          1.8141476737433874e-9,
          1.81139112692881e-9,
          1.8086345801142323e-9,
          1.805878033299655e-9,
          1.8031214864850772e-9
         ],
         "yaxis": "y"
        },
        {
         "hovertemplate": "Category=1<br>Month=%{x}<br>Monthly Forecasted Demand=%{y}<extra></extra>",
         "legendgroup": "1",
         "line": {
          "color": "#EF553B",
          "dash": "solid"
         },
         "marker": {
          "symbol": "circle"
         },
         "mode": "lines",
         "name": "1",
         "orientation": "v",
         "showlegend": true,
         "type": "scatter",
         "x": [
          "2025-01",
          "2025-02",
          "2025-03",
          "2025-04",
          "2025-05",
          "2025-06"
         ],
         "xaxis": "x",
         "y": [
          8.065585932334973e-10,
          8.038020464189199e-10,
          8.010454996043418e-10,
          7.982889527897644e-10,
          7.955324059751871e-10,
          7.92775859160609e-10
         ],
         "yaxis": "y"
        },
        {
         "hovertemplate": "Category=2<br>Month=%{x}<br>Monthly Forecasted Demand=%{y}<extra></extra>",
         "legendgroup": "2",
         "line": {
          "color": "#00cc96",
          "dash": "solid"
         },
         "marker": {
          "symbol": "circle"
         },
         "mode": "lines",
         "name": "2",
         "orientation": "v",
         "showlegend": true,
         "type": "scatter",
         "x": [
          "2025-01",
          "2025-02",
          "2025-03",
          "2025-04",
          "2025-05",
          "2025-06"
         ],
         "xaxis": "x",
         "y": [
          2.1208951030222032e-8,
          2.1206194483407454e-8,
          2.1203437936592876e-8,
          2.12006813897783e-8,
          2.1197924842963723e-8,
          2.1195168296149145e-8
         ],
         "yaxis": "y"
        },
        {
         "hovertemplate": "Category=3<br>Month=%{x}<br>Monthly Forecasted Demand=%{y}<extra></extra>",
         "legendgroup": "3",
         "line": {
          "color": "#ab63fa",
          "dash": "solid"
         },
         "marker": {
          "symbol": "circle"
         },
         "mode": "lines",
         "name": "3",
         "orientation": "v",
         "showlegend": true,
         "type": "scatter",
         "x": [
          "2025-01",
          "2025-02",
          "2025-03",
          "2025-04",
          "2025-05",
          "2025-06"
         ],
         "xaxis": "x",
         "y": [
          5.557537542195627e-10,
          5.529972074049854e-10,
          5.502406605904072e-10,
          5.474841137758299e-10,
          5.447275669612525e-10,
          5.419710201466752e-10
         ],
         "yaxis": "y"
        },
        {
         "hovertemplate": "Category=4<br>Month=%{x}<br>Monthly Forecasted Demand=%{y}<extra></extra>",
         "legendgroup": "4",
         "line": {
          "color": "#FFA15A",
          "dash": "solid"
         },
         "marker": {
          "symbol": "circle"
         },
         "mode": "lines",
         "name": "4",
         "orientation": "v",
         "showlegend": true,
         "type": "scatter",
         "x": [
          "2025-01",
          "2025-02",
          "2025-03",
          "2025-04",
          "2025-05",
          "2025-06"
         ],
         "xaxis": "x",
         "y": [
          6.869299556754556e-10,
          6.841734088608782e-10,
          6.814168620463001e-10,
          6.786603152317227e-10,
          6.759037684171454e-10,
          6.731472216025672e-10
         ],
         "yaxis": "y"
        }
       ],
       "layout": {
        "legend": {
         "title": {
          "text": "Category"
         },
         "tracegroupgap": 0
        },
        "template": {
         "data": {
          "bar": [
           {
            "error_x": {
             "color": "#2a3f5f"
            },
            "error_y": {
             "color": "#2a3f5f"
            },
            "marker": {
             "line": {
              "color": "#E5ECF6",
              "width": 0.5
             },
             "pattern": {
              "fillmode": "overlay",
              "size": 10,
              "solidity": 0.2
             }
            },
            "type": "bar"
           }
          ],
          "barpolar": [
           {
            "marker": {
             "line": {
              "color": "#E5ECF6",
              "width": 0.5
             },
             "pattern": {
              "fillmode": "overlay",
              "size": 10,
              "solidity": 0.2
             }
            },
            "type": "barpolar"
           }
          ],
          "carpet": [
           {
            "aaxis": {
             "endlinecolor": "#2a3f5f",
             "gridcolor": "white",
             "linecolor": "white",
             "minorgridcolor": "white",
             "startlinecolor": "#2a3f5f"
            },
            "baxis": {
             "endlinecolor": "#2a3f5f",
             "gridcolor": "white",
             "linecolor": "white",
             "minorgridcolor": "white",
             "startlinecolor": "#2a3f5f"
            },
            "type": "carpet"
           }
          ],
          "choropleth": [
           {
            "colorbar": {
             "outlinewidth": 0,
             "ticks": ""
            },
            "type": "choropleth"
           }
          ],
          "contour": [
           {
            "colorbar": {
             "outlinewidth": 0,
             "ticks": ""
            },
            "colorscale": [
             [
              0,
              "#0d0887"
             ],
             [
              0.1111111111111111,
              "#46039f"
             ],
             [
              0.2222222222222222,
              "#7201a8"
             ],
             [
              0.3333333333333333,
              "#9c179e"
             ],
             [
              0.4444444444444444,
              "#bd3786"
             ],
             [
              0.5555555555555556,
              "#d8576b"
             ],
             [
              0.6666666666666666,
              "#ed7953"
             ],
             [
              0.7777777777777778,
              "#fb9f3a"
             ],
             [
              0.8888888888888888,
              "#fdca26"
             ],
             [
              1,
              "#f0f921"
             ]
            ],
            "type": "contour"
           }
          ],
          "contourcarpet": [
           {
            "colorbar": {
             "outlinewidth": 0,
             "ticks": ""
            },
            "type": "contourcarpet"
           }
          ],
          "heatmap": [
           {
            "colorbar": {
             "outlinewidth": 0,
             "ticks": ""
            },
            "colorscale": [
             [
              0,
              "#0d0887"
             ],
             [
              0.1111111111111111,
              "#46039f"
             ],
             [
              0.2222222222222222,
              "#7201a8"
             ],
             [
              0.3333333333333333,
              "#9c179e"
             ],
             [
              0.4444444444444444,
              "#bd3786"
             ],
             [
              0.5555555555555556,
              "#d8576b"
             ],
             [
              0.6666666666666666,
              "#ed7953"
             ],
             [
              0.7777777777777778,
              "#fb9f3a"
             ],
             [
              0.8888888888888888,
              "#fdca26"
             ],
             [
              1,
              "#f0f921"
             ]
            ],
            "type": "heatmap"
           }
          ],
          "heatmapgl": [
           {
            "colorbar": {
             "outlinewidth": 0,
             "ticks": ""
            },
            "colorscale": [
             [
              0,
              "#0d0887"
             ],
             [
              0.1111111111111111,
              "#46039f"
             ],
             [
              0.2222222222222222,
              "#7201a8"
             ],
             [
              0.3333333333333333,
              "#9c179e"
             ],
             [
              0.4444444444444444,
              "#bd3786"
             ],
             [
              0.5555555555555556,
              "#d8576b"
             ],
             [
              0.6666666666666666,
              "#ed7953"
             ],
             [
              0.7777777777777778,
              "#fb9f3a"
             ],
             [
              0.8888888888888888,
              "#fdca26"
             ],
             [
              1,
              "#f0f921"
             ]
            ],
            "type": "heatmapgl"
           }
          ],
          "histogram": [
           {
            "marker": {
             "pattern": {
              "fillmode": "overlay",
              "size": 10,
              "solidity": 0.2
             }
            },
            "type": "histogram"
           }
          ],
          "histogram2d": [
           {
            "colorbar": {
             "outlinewidth": 0,
             "ticks": ""
            },
            "colorscale": [
             [
              0,
              "#0d0887"
             ],
             [
              0.1111111111111111,
              "#46039f"
             ],
             [
              0.2222222222222222,
              "#7201a8"
             ],
             [
              0.3333333333333333,
              "#9c179e"
             ],
             [
              0.4444444444444444,
              "#bd3786"
             ],
             [
              0.5555555555555556,
              "#d8576b"
             ],
             [
              0.6666666666666666,
              "#ed7953"
             ],
             [
              0.7777777777777778,
              "#fb9f3a"
             ],
             [
              0.8888888888888888,
              "#fdca26"
             ],
             [
              1,
              "#f0f921"
             ]
            ],
            "type": "histogram2d"
           }
          ],
          "histogram2dcontour": [
           {
            "colorbar": {
             "outlinewidth": 0,
             "ticks": ""
            },
            "colorscale": [
             [
              0,
              "#0d0887"
             ],
             [
              0.1111111111111111,
              "#46039f"
             ],
             [
              0.2222222222222222,
              "#7201a8"
             ],
             [
              0.3333333333333333,
              "#9c179e"
             ],
             [
              0.4444444444444444,
              "#bd3786"
             ],
             [
              0.5555555555555556,
              "#d8576b"
             ],
             [
              0.6666666666666666,
              "#ed7953"
             ],
             [
              0.7777777777777778,
              "#fb9f3a"
             ],
             [
              0.8888888888888888,
              "#fdca26"
             ],
             [
              1,
              "#f0f921"
             ]
            ],
            "type": "histogram2dcontour"
           }
          ],
          "mesh3d": [
           {
            "colorbar": {
             "outlinewidth": 0,
             "ticks": ""
            },
            "type": "mesh3d"
           }
          ],
          "parcoords": [
           {
            "line": {
             "colorbar": {
              "outlinewidth": 0,
              "ticks": ""
             }
            },
            "type": "parcoords"
           }
          ],
          "pie": [
           {
            "automargin": true,
            "type": "pie"
           }
          ],
          "scatter": [
           {
            "fillpattern": {
             "fillmode": "overlay",
             "size": 10,
             "solidity": 0.2
            },
            "type": "scatter"
           }
          ],
          "scatter3d": [
           {
            "line": {
             "colorbar": {
              "outlinewidth": 0,
              "ticks": ""
             }
            },
            "marker": {
             "colorbar": {
              "outlinewidth": 0,
              "ticks": ""
             }
            },
            "type": "scatter3d"
           }
          ],
          "scattercarpet": [
           {
            "marker": {
             "colorbar": {
              "outlinewidth": 0,
              "ticks": ""
             }
            },
            "type": "scattercarpet"
           }
          ],
          "scattergeo": [
           {
            "marker": {
             "colorbar": {
              "outlinewidth": 0,
              "ticks": ""
             }
            },
            "type": "scattergeo"
           }
          ],
          "scattergl": [
           {
            "marker": {
             "colorbar": {
              "outlinewidth": 0,
              "ticks": ""
             }
            },
            "type": "scattergl"
           }
          ],
          "scattermapbox": [
           {
            "marker": {
             "colorbar": {
              "outlinewidth": 0,
              "ticks": ""
             }
            },
            "type": "scattermapbox"
           }
          ],
          "scatterpolar": [
           {
            "marker": {
             "colorbar": {
              "outlinewidth": 0,
              "ticks": ""
             }
            },
            "type": "scatterpolar"
           }
          ],
          "scatterpolargl": [
           {
            "marker": {
             "colorbar": {
              "outlinewidth": 0,
              "ticks": ""
             }
            },
            "type": "scatterpolargl"
           }
          ],
          "scatterternary": [
           {
            "marker": {
             "colorbar": {
              "outlinewidth": 0,
              "ticks": ""
             }
            },
            "type": "scatterternary"
           }
          ],
          "surface": [
           {
            "colorbar": {
             "outlinewidth": 0,
             "ticks": ""
            },
            "colorscale": [
             [
              0,
              "#0d0887"
             ],
             [
              0.1111111111111111,
              "#46039f"
             ],
             [
              0.2222222222222222,
              "#7201a8"
             ],
             [
              0.3333333333333333,
              "#9c179e"
             ],
             [
              0.4444444444444444,
              "#bd3786"
             ],
             [
              0.5555555555555556,
              "#d8576b"
             ],
             [
              0.6666666666666666,
              "#ed7953"
             ],
             [
              0.7777777777777778,
              "#fb9f3a"
             ],
             [
              0.8888888888888888,
              "#fdca26"
             ],
             [
              1,
              "#f0f921"
             ]
            ],
            "type": "surface"
           }
          ],
          "table": [
           {
            "cells": {
             "fill": {
              "color": "#EBF0F8"
             },
             "line": {
              "color": "white"
             }
            },
            "header": {
             "fill": {
              "color": "#C8D4E3"
             },
             "line": {
              "color": "white"
             }
            },
            "type": "table"
           }
          ]
         },
         "layout": {
          "annotationdefaults": {
           "arrowcolor": "#2a3f5f",
           "arrowhead": 0,
           "arrowwidth": 1
          },
          "autotypenumbers": "strict",
          "coloraxis": {
           "colorbar": {
            "outlinewidth": 0,
            "ticks": ""
           }
          },
          "colorscale": {
           "diverging": [
            [
             0,
             "#8e0152"
            ],
            [
             0.1,
             "#c51b7d"
            ],
            [
             0.2,
             "#de77ae"
            ],
            [
             0.3,
             "#f1b6da"
            ],
            [
             0.4,
             "#fde0ef"
            ],
            [
             0.5,
             "#f7f7f7"
            ],
            [
             0.6,
             "#e6f5d0"
            ],
            [
             0.7,
             "#b8e186"
            ],
            [
             0.8,
             "#7fbc41"
            ],
            [
             0.9,
             "#4d9221"
            ],
            [
             1,
             "#276419"
            ]
           ],
           "sequential": [
            [
             0,
             "#0d0887"
            ],
            [
             0.1111111111111111,
             "#46039f"
            ],
            [
             0.2222222222222222,
             "#7201a8"
            ],
            [
             0.3333333333333333,
             "#9c179e"
            ],
            [
             0.4444444444444444,
             "#bd3786"
            ],
            [
             0.5555555555555556,
             "#d8576b"
            ],
            [
             0.6666666666666666,
             "#ed7953"
            ],
            [
             0.7777777777777778,
             "#fb9f3a"
            ],
            [
             0.8888888888888888,
             "#fdca26"
            ],
            [
             1,
             "#f0f921"
            ]
           ],
           "sequentialminus": [
            [
             0,
             "#0d0887"
            ],
            [
             0.1111111111111111,
             "#46039f"
            ],
            [
             0.2222222222222222,
             "#7201a8"
            ],
            [
             0.3333333333333333,
             "#9c179e"
            ],
            [
             0.4444444444444444,
             "#bd3786"
            ],
            [
             0.5555555555555556,
             "#d8576b"
            ],
            [
             0.6666666666666666,
             "#ed7953"
            ],
            [
             0.7777777777777778,
             "#fb9f3a"
            ],
            [
             0.8888888888888888,
             "#fdca26"
            ],
            [
             1,
             "#f0f921"
            ]
           ]
          },
          "colorway": [
           "#636efa",
           "#EF553B",
           "#00cc96",
           "#ab63fa",
           "#FFA15A",
           "#19d3f3",
           "#FF6692",
           "#B6E880",
           "#FF97FF",
           "#FECB52"
          ],
          "font": {
           "color": "#2a3f5f"
          },
          "geo": {
           "bgcolor": "white",
           "lakecolor": "white",
           "landcolor": "#E5ECF6",
           "showlakes": true,
           "showland": true,
           "subunitcolor": "white"
          },
          "hoverlabel": {
           "align": "left"
          },
          "hovermode": "closest",
          "mapbox": {
           "style": "light"
          },
          "paper_bgcolor": "white",
          "plot_bgcolor": "#E5ECF6",
          "polar": {
           "angularaxis": {
            "gridcolor": "white",
            "linecolor": "white",
            "ticks": ""
           },
           "bgcolor": "#E5ECF6",
           "radialaxis": {
            "gridcolor": "white",
            "linecolor": "white",
            "ticks": ""
           }
          },
          "scene": {
           "xaxis": {
            "backgroundcolor": "#E5ECF6",
            "gridcolor": "white",
            "gridwidth": 2,
            "linecolor": "white",
            "showbackground": true,
            "ticks": "",
            "zerolinecolor": "white"
           },
           "yaxis": {
            "backgroundcolor": "#E5ECF6",
            "gridcolor": "white",
            "gridwidth": 2,
            "linecolor": "white",
            "showbackground": true,
            "ticks": "",
            "zerolinecolor": "white"
           },
           "zaxis": {
            "backgroundcolor": "#E5ECF6",
            "gridcolor": "white",
            "gridwidth": 2,
            "linecolor": "white",
            "showbackground": true,
            "ticks": "",
            "zerolinecolor": "white"
           }
          },
          "shapedefaults": {
           "line": {
            "color": "#2a3f5f"
           }
          },
          "ternary": {
           "aaxis": {
            "gridcolor": "white",
            "linecolor": "white",
            "ticks": ""
           },
           "baxis": {
            "gridcolor": "white",
            "linecolor": "white",
            "ticks": ""
           },
           "bgcolor": "#E5ECF6",
           "caxis": {
            "gridcolor": "white",
            "linecolor": "white",
            "ticks": ""
           }
          },
          "title": {
           "x": 0.05
          },
          "xaxis": {
           "automargin": true,
           "gridcolor": "white",
           "linecolor": "white",
           "ticks": "",
           "title": {
            "standoff": 15
           },
           "zerolinecolor": "white",
           "zerolinewidth": 2
          },
          "yaxis": {
           "automargin": true,
           "gridcolor": "white",
           "linecolor": "white",
           "ticks": "",
           "title": {
            "standoff": 15
           },
           "zerolinecolor": "white",
           "zerolinewidth": 2
          }
         }
        },
        "title": {
         "text": "Forecasted Monthly Demand by Category"
        },
        "xaxis": {
         "anchor": "y",
         "domain": [
          0,
          1
         ],
         "title": {
          "text": "Month"
         }
        },
        "yaxis": {
         "anchor": "x",
         "domain": [
          0,
          1
         ],
         "title": {
          "text": "Monthly Forecasted Demand"
         }
        }
       }
      }
     },
     "metadata": {},
     "output_type": "display_data"
    }
   ],
   "source": [
    "#Plot the forecasted demand by category on the same chart or separate charts to compare predicted values with historical data.\n",
    "fig_forecast = px.line(forecasted_demand_df, x='Month', y='Forecasted_Demand', color='Category',\n",
    "                        title='Forecasted Monthly Demand by Category',\n",
    "                        labels={'Forecasted_Demand': 'Monthly Forecasted Demand', 'Month': 'Month'})\n",
    "fig_forecast.update_layout(xaxis_title='Month', yaxis_title='Monthly Forecasted Demand')\n",
    "fig_forecast.show()\n"
   ]
  },
  {
   "cell_type": "code",
   "execution_count": 179,
   "id": "56031489",
   "metadata": {},
   "outputs": [],
   "source": [
    "#save linear regression model notebook cells \n",
    "notebook_path = r'C:\\Users\\Rebecca\\Desktop\\Demand forecast analysis\\Notebooks\\linear_regression_demand_forecast.ipynb'\n",
    "\n",
    "#save the forecasted demand data\n",
    "forecasted_demand_df.to_csv(r'C:\\Users\\Rebecca\\Desktop\\Demand forecast analysis\\Notebooks\\forecasted_demand.ipynb', index=False)"
   ]
  }
 ],
 "metadata": {
  "kernelspec": {
   "display_name": "base",
   "language": "python",
   "name": "python3"
  },
  "language_info": {
   "codemirror_mode": {
    "name": "ipython",
    "version": 3
   },
   "file_extension": ".py",
   "mimetype": "text/x-python",
   "name": "python",
   "nbconvert_exporter": "python",
   "pygments_lexer": "ipython3",
   "version": "3.12.7"
  }
 },
 "nbformat": 4,
 "nbformat_minor": 5
}
